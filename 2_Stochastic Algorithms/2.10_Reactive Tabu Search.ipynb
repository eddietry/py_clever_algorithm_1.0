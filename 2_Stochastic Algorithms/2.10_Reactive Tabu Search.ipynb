{
 "cells": [
  {
   "cell_type": "code",
   "execution_count": 1,
   "metadata": {},
   "outputs": [],
   "source": [
    "# problem configuration\n",
    "berlin52 = [[565,575],[25,185],[345,750],[945,685],[845,655],\n",
    "[880,660],[25,230],[525,1000],[580,1175],[650,1130],[1605,620],\n",
    "[1220,580],[1465,200],[1530,5],[845,680],[725,370],[145,665],\n",
    "[415,635],[510,875],[560,365],[300,465],[520,585],[480,415],\n",
    "[835,625],[975,580],[1215,245],[1320,315],[1250,400],[660,180],\n",
    "[410,250],[420,555],[575,665],[1150,1160],[700,580],[685,595],\n",
    "[685,610],[770,610],[795,645],[720,635],[760,650],[475,960],\n",
    "[95,260],[875,920],[700,500],[555,815],[830,485],[1170,65],\n",
    "[830,610],[605,625],[595,360],[1340,725],[1740,245]]\n",
    "# algorithm configuration\n",
    "max_iter = 100\n",
    "max_candidates = 50\n",
    "increase = 1.3\n",
    "decrease = 0.9\n",
    "# execute the algorithm\n",
    "# best = search(berlin52, max_candidates, max_iter, increase, decrease)"
   ]
  },
  {
   "cell_type": "code",
   "execution_count": 4,
   "metadata": {},
   "outputs": [],
   "source": [
    "import math\n",
    "import random\n",
    "from random import sample\n",
    "import numpy as np\n",
    "\n",
    "def euc_2d(c1,c2):\n",
    "    return math.sqrt((c1[0]-c2[0])**2+(c1[1]-c2[1])**2)\n",
    "\n",
    "def cost(sol,cities):\n",
    "    distance = 0 \n",
    "    for i,c1 in enumerate(sol):\n",
    "        if (i == len(sol)-1):\n",
    "            c2 = sol[0]\n",
    "        else:\n",
    "            c2 = sol[i+1]\n",
    "        distance += euc_2d(cities[c1],cities[c2])\n",
    "    return distance\n",
    "\n",
    "def random_permutation(cities):\n",
    "    perm = np.random.permutation(len(cities))\n",
    "    return perm\n",
    "\n",
    "def stochastic_2_op(x):\n",
    "    new_x = []\n",
    "    x = list(x)\n",
    "    start,end = sorted(sample(range(2,len(x)),2))\n",
    "    new_x = x[:start]\n",
    "    new_x += (list(reversed(x[start:end])))\n",
    "    new_x += x[end:]\n",
    "    edges = [[start-1,start],[end-1,end]]\n",
    "    return new_x,edges\n",
    "\n",
    "def is_tabu(x,tabu_list):\n",
    "    for i,c1 in enumerate(x):\n",
    "        if i == len(x)-1:\n",
    "            c2 = x[0]\n",
    "        else:\n",
    "            c2 = x[i+1]\n",
    "        if [c1,c2] in tabu_list:\n",
    "            return True\n",
    "    return False"
   ]
  },
  {
   "cell_type": "code",
   "execution_count": 7,
   "metadata": {},
   "outputs": [],
   "source": [
    "def make_tabu(tabu_list, edge, iter):\n",
    "    for entry in talu_list:\n",
    "        if entry['edge'] == edge:\n",
    "            entry['iter'] = iter\n",
    "            return entry\n",
    "    entry = {'edge':edge,'iter':iter}\n",
    "    tabu_list.append(entry)\n",
    "    return entry\n",
    "\n",
    "def to_edge_list(perm):\n",
    "    li = []\n",
    "    for i,c1 in enumerate(perm):\n",
    "        if i == len(perm)-1:\n",
    "            c2 = perm[0]\n",
    "        else:\n",
    "            c2 = perm[i+1]\n",
    "        li.append([c1,c2])\n",
    "    return li"
   ]
  },
  {
   "cell_type": "code",
   "execution_count": 9,
   "metadata": {},
   "outputs": [],
   "source": [
    "def equivalent(el1, el2):\n",
    "    ## 如果el1的item 都在el2中，\n",
    "    if el1 in el2:\n",
    "        return False\n",
    "    else:\n",
    "        return True"
   ]
  },
  {
   "cell_type": "code",
   "execution_count": 35,
   "metadata": {},
   "outputs": [],
   "source": [
    "def generate_candidate(best, cities):\n",
    "    candidate = {}\n",
    "    candidate['vector'], edges = stochastic_two_opt(best['vector'])\n",
    "    candidate['cost'] = cost(candidate['vector'], cities)\n",
    "    candigate['edges'] = edges\n",
    "    return candidate"
   ]
  },
  {
   "cell_type": "code",
   "execution_count": 36,
   "metadata": {},
   "outputs": [],
   "source": [
    "def get_candidate_entry(visited_list, permutation):\n",
    "    edgeList = to_edge_list(permutation)\n",
    "    for entry in visited_list:\n",
    "        if equivalent(edgeList,entry['edgelist']):\n",
    "            return entry\n",
    "        else:\n",
    "            return False\n",
    "\n",
    "def store_permutation(visited_list, permutation, iteration):\n",
    "    entry = {}\n",
    "    entry['edgelist'] = to_edge_list(permutation)\n",
    "    entry['iter'] = iteration\n",
    "    entry['visits'] = 1\n",
    "    visited_list.append(entry)\n",
    "    return entry"
   ]
  },
  {
   "cell_type": "code",
   "execution_count": 37,
   "metadata": {},
   "outputs": [],
   "source": [
    "def sort_neighborhood(candidates, tabu_list, prohib_period, iteration):\n",
    "    tabu, admissable = [], []\n",
    "    for a in candidates:\n",
    "        if is_tabu(a[1][0], tabu_list, iteration, prohib_period) or is_tabu(a[1][1], tabu_list, iteration, prohib_period):\n",
    "            tabu.append(a)\n",
    "        else:\n",
    "            admissable << a\n",
    "    return [tabu, admissable]"
   ]
  },
  {
   "cell_type": "code",
   "execution_count": 38,
   "metadata": {},
   "outputs": [],
   "source": [
    "def search(cities, max_cand, max_iter, increase, decrease):\n",
    "    current = {'vector':random_permutation(cities)}\n",
    "    current['cost'] = cost(current['vector'],cities)\n",
    "    best = current\n",
    "    tabu_list,prohib_period = [],1\n",
    "    visited_list, avg_size, last_change = [], 1, 0\n",
    "    for it in range(max_iter):\n",
    "        candidate_entry = get_candidate_entry(visited_list, current['vector'])\n",
    "        if not candidate_entry :\n",
    "            repetition_interval = it - candidate_entry['iter']\n",
    "            candidate_entry['iter'] = it\n",
    "            candidate_entry['visits'] += 1\n",
    "            if repetition_interval < 2* (len(cities)-1):\n",
    "                avg_size = 0.1*(iter-candidate_entry['iter']) + 0.9*avg_size\n",
    "                prohib_period = (prohib_period.to_f * increase)\n",
    "                last_change = iter\n",
    "            else:\n",
    "                store_permutation(visited_list, current['vector'], iter)\n",
    "        if it-last_change > avg_size:\n",
    "            prohib_period = [prohib_period*decrease,1].max\n",
    "            last_change = it\n",
    "        candidates = [generate_candidate(current,cities) for i in range(max_cand)]\n",
    "        candidates.sort(key = lambda k:k['cost'])\n",
    "        tabu,admis = sort_neighborhood(candidates,tabu_list,prohib_period,iter)\n",
    "        if len(admis) < 2:\n",
    "            prohib_period = len(cities)-2\n",
    "            last_change = it\n",
    "        if admis is None:\n",
    "            current,best_move_edges = tabu[0]\n",
    "        else:\n",
    "            current,best_move_edges = admis[0]\n",
    "        for edge in best_move_edges:\n",
    "            make_tabu(tabu_list,edge,it)\n",
    "        if candidates[0]['cost'] < best['cost']:\n",
    "            best = candidates[0]\n",
    "        return best['vector'],best['cost']"
   ]
  },
  {
   "cell_type": "code",
   "execution_count": 39,
   "metadata": {},
   "outputs": [
    {
     "ename": "TypeError",
     "evalue": "'NoneType' object is not subscriptable",
     "output_type": "error",
     "traceback": [
      "\u001b[1;31m---------------------------------------------------------------------------\u001b[0m",
      "\u001b[1;31mTypeError\u001b[0m                                 Traceback (most recent call last)",
      "\u001b[1;32m<ipython-input-39-aab4668a4d28>\u001b[0m in \u001b[0;36m<module>\u001b[1;34m\u001b[0m\n\u001b[1;32m----> 1\u001b[1;33m \u001b[0msearch\u001b[0m\u001b[1;33m(\u001b[0m\u001b[0mberlin52\u001b[0m\u001b[1;33m,\u001b[0m \u001b[0mmax_candidates\u001b[0m\u001b[1;33m,\u001b[0m \u001b[0mmax_iter\u001b[0m\u001b[1;33m,\u001b[0m \u001b[0mincrease\u001b[0m\u001b[1;33m,\u001b[0m \u001b[0mdecrease\u001b[0m\u001b[1;33m)\u001b[0m\u001b[1;33m\u001b[0m\u001b[1;33m\u001b[0m\u001b[0m\n\u001b[0m",
      "\u001b[1;32m<ipython-input-38-d29b655d1545>\u001b[0m in \u001b[0;36msearch\u001b[1;34m(cities, max_cand, max_iter, increase, decrease)\u001b[0m\n\u001b[0;32m      8\u001b[0m         \u001b[0mcandidate_entry\u001b[0m \u001b[1;33m=\u001b[0m \u001b[0mget_candidate_entry\u001b[0m\u001b[1;33m(\u001b[0m\u001b[0mvisited_list\u001b[0m\u001b[1;33m,\u001b[0m \u001b[0mcurrent\u001b[0m\u001b[1;33m[\u001b[0m\u001b[1;34m'vector'\u001b[0m\u001b[1;33m]\u001b[0m\u001b[1;33m)\u001b[0m\u001b[1;33m\u001b[0m\u001b[1;33m\u001b[0m\u001b[0m\n\u001b[0;32m      9\u001b[0m         \u001b[1;32mif\u001b[0m \u001b[1;32mnot\u001b[0m \u001b[0mcandidate_entry\u001b[0m \u001b[1;33m:\u001b[0m\u001b[1;33m\u001b[0m\u001b[1;33m\u001b[0m\u001b[0m\n\u001b[1;32m---> 10\u001b[1;33m             \u001b[0mrepetition_interval\u001b[0m \u001b[1;33m=\u001b[0m \u001b[0mit\u001b[0m \u001b[1;33m-\u001b[0m \u001b[0mcandidate_entry\u001b[0m\u001b[1;33m[\u001b[0m\u001b[1;34m'iter'\u001b[0m\u001b[1;33m]\u001b[0m\u001b[1;33m\u001b[0m\u001b[1;33m\u001b[0m\u001b[0m\n\u001b[0m\u001b[0;32m     11\u001b[0m             \u001b[0mcandidate_entry\u001b[0m\u001b[1;33m[\u001b[0m\u001b[1;34m'iter'\u001b[0m\u001b[1;33m]\u001b[0m \u001b[1;33m=\u001b[0m \u001b[0mit\u001b[0m\u001b[1;33m\u001b[0m\u001b[1;33m\u001b[0m\u001b[0m\n\u001b[0;32m     12\u001b[0m             \u001b[0mcandidate_entry\u001b[0m\u001b[1;33m[\u001b[0m\u001b[1;34m'visits'\u001b[0m\u001b[1;33m]\u001b[0m \u001b[1;33m+=\u001b[0m \u001b[1;36m1\u001b[0m\u001b[1;33m\u001b[0m\u001b[1;33m\u001b[0m\u001b[0m\n",
      "\u001b[1;31mTypeError\u001b[0m: 'NoneType' object is not subscriptable"
     ]
    }
   ],
   "source": [
    "search(berlin52, max_candidates, max_iter, increase, decrease)"
   ]
  },
  {
   "cell_type": "code",
   "execution_count": null,
   "metadata": {},
   "outputs": [],
   "source": []
  }
 ],
 "metadata": {
  "kernelspec": {
   "display_name": "Python 3",
   "language": "python",
   "name": "python3"
  },
  "language_info": {
   "codemirror_mode": {
    "name": "ipython",
    "version": 3
   },
   "file_extension": ".py",
   "mimetype": "text/x-python",
   "name": "python",
   "nbconvert_exporter": "python",
   "pygments_lexer": "ipython3",
   "version": "3.7.1"
  }
 },
 "nbformat": 4,
 "nbformat_minor": 2
}
