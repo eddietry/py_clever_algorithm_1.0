{
 "cells": [
  {
   "cell_type": "code",
   "execution_count": null,
   "metadata": {},
   "outputs": [],
   "source": [
    "# Random Search\n",
    "# 利用随机搜索最小化cost目标函数"
   ]
  },
  {
   "cell_type": "code",
   "execution_count": 14,
   "metadata": {},
   "outputs": [],
   "source": [
    "import math\n",
    "import random"
   ]
  },
  {
   "cell_type": "code",
   "execution_count": 64,
   "metadata": {},
   "outputs": [],
   "source": [
    "def get_obj(sol):\n",
    "    return sum([ x**2 for x in sol])"
   ]
  },
  {
   "cell_type": "code",
   "execution_count": 55,
   "metadata": {},
   "outputs": [],
   "source": [
    "def get_sol(low_bound=-5,up_bound=5,sol_size = 2):\n",
    "    sol_item = [ round(random.uniform(low_bound,up_bound),2) for i in range(sol_size)]\n",
    "    return sol_item"
   ]
  },
  {
   "cell_type": "code",
   "execution_count": 56,
   "metadata": {},
   "outputs": [],
   "source": [
    "def search(search_space,max_iter):\n",
    "    sol = []\n",
    "    sol = [ get_sol(search_space[0],search_space[1]) for i in range(max_iter)]\n",
    "    sol.sort(key=lambda x: get_obj(x))\n",
    "    print(\"Best solution: {}\".format(sol[0]))\n",
    "    print(\"obj is {}\".format(get_obj(sol[0])))\n",
    "    "
   ]
  },
  {
   "cell_type": "code",
   "execution_count": 57,
   "metadata": {},
   "outputs": [
    {
     "name": "stdout",
     "output_type": "stream",
     "text": [
      "Best solution: [-0.01, -0.0]\n",
      "obj is 0.0001\n"
     ]
    }
   ],
   "source": [
    "search([-5,5],1000000)"
   ]
  },
  {
   "cell_type": "code",
   "execution_count": 50,
   "metadata": {},
   "outputs": [
    {
     "data": {
      "text/plain": [
       "[0.29, -0.7]"
      ]
     },
     "execution_count": 50,
     "metadata": {},
     "output_type": "execute_result"
    }
   ],
   "source": [
    "sol_size = 2\n",
    "[ round(random.uniform(-5,5),2) for i in range(sol_size)]"
   ]
  },
  {
   "cell_type": "code",
   "execution_count": null,
   "metadata": {},
   "outputs": [],
   "source": []
  }
 ],
 "metadata": {
  "kernelspec": {
   "display_name": "Python 3",
   "language": "python",
   "name": "python3"
  },
  "language_info": {
   "codemirror_mode": {
    "name": "ipython",
    "version": 3
   },
   "file_extension": ".py",
   "mimetype": "text/x-python",
   "name": "python",
   "nbconvert_exporter": "python",
   "pygments_lexer": "ipython3",
   "version": "3.7.1"
  }
 },
 "nbformat": 4,
 "nbformat_minor": 2
}
