{
 "cells": [
  {
   "cell_type": "code",
   "execution_count": 1,
   "metadata": {},
   "outputs": [],
   "source": [
    "import random"
   ]
  },
  {
   "cell_type": "code",
   "execution_count": 2,
   "metadata": {},
   "outputs": [],
   "source": [
    "def get_obj(sol):\n",
    "    return round(sum([ x**2 for x in sol]),2)"
   ]
  },
  {
   "cell_type": "code",
   "execution_count": 3,
   "metadata": {},
   "outputs": [],
   "source": [
    "def get_initial(bounds=[-5,5],sol_size = 2):\n",
    "    sol_item = [ round(random.uniform(bounds[0],bounds[1]),2) for i in range(sol_size)]\n",
    "    return sol_item\n",
    "\n",
    "def get_sol(bounds):\n",
    "    return round(random.uniform(bounds[0],bounds[1]),2)"
   ]
  },
  {
   "cell_type": "code",
   "execution_count": 4,
   "metadata": {},
   "outputs": [],
   "source": [
    "def take_step(sol,step_size=0.05,lb= -5,ub= 5 ):\n",
    "    new_sol = []\n",
    "    def get_bounds(x):\n",
    "        min_x = max(lb,x-step_size)\n",
    "        max_x = min(ub,x+step_size)\n",
    "        \n",
    "        return min_x,max_x\n",
    "   \n",
    "    new_sol = [ get_sol(get_bounds(x)) for x in sol]\n",
    "    return new_sol"
   ]
  },
  {
   "cell_type": "code",
   "execution_count": 5,
   "metadata": {},
   "outputs": [
    {
     "data": {
      "text/plain": [
       "[-2.98, -0.87]"
      ]
     },
     "execution_count": 5,
     "metadata": {},
     "output_type": "execute_result"
    }
   ],
   "source": [
    "sol = get_initial()\n",
    "take_step(sol)"
   ]
  },
  {
   "cell_type": "code",
   "execution_count": 6,
   "metadata": {},
   "outputs": [
    {
     "data": {
      "text/plain": [
       "31.53"
      ]
     },
     "execution_count": 6,
     "metadata": {},
     "output_type": "execute_result"
    }
   ],
   "source": [
    "get_obj(take_step([4.04, 3.88]))"
   ]
  },
  {
   "cell_type": "code",
   "execution_count": 7,
   "metadata": {},
   "outputs": [],
   "source": [
    "def get_lstep_size(iters,step_size,s_factor,l_factor,iter_mult):\n",
    "    if iters >0 and iters % iter_mult ==0:\n",
    "        return step_size * l_factor\n",
    "    return step_size * s_factor\n"
   ]
  },
  {
   "cell_type": "code",
   "execution_count": 8,
   "metadata": {},
   "outputs": [
    {
     "data": {
      "text/plain": [
       "0.065"
      ]
     },
     "execution_count": 8,
     "metadata": {},
     "output_type": "execute_result"
    }
   ],
   "source": [
    "get_lstep_size(10,0.05,1.3,3.0,30)"
   ]
  },
  {
   "cell_type": "code",
   "execution_count": 9,
   "metadata": {},
   "outputs": [],
   "source": [
    "def take_steps(sol,step_size,big_stepsize,lb= -5,ub= 5 ):\n",
    "    step,big_step = {},{}\n",
    "    step['x'] = take_step(sol,step_size)\n",
    "    step['obj'] = get_obj(step['x'])\n",
    "    big_step['x'] = take_step(sol,big_stepsize)\n",
    "    big_step['obj'] = get_obj(big_step['x'])\n",
    "    return step,big_step\n",
    "    "
   ]
  },
  {
   "cell_type": "code",
   "execution_count": 10,
   "metadata": {},
   "outputs": [
    {
     "data": {
      "text/plain": [
       "({'x': [-3.01, -0.9], 'obj': 9.87}, {'x': [-2.98, -0.83], 'obj': 9.57})"
      ]
     },
     "execution_count": 10,
     "metadata": {},
     "output_type": "execute_result"
    }
   ],
   "source": [
    "take_steps(sol,0.05,0.065)"
   ]
  },
  {
   "cell_type": "code",
   "execution_count": 11,
   "metadata": {},
   "outputs": [],
   "source": [
    "def A_random_search(max_iter,init_factor,s_factor,\n",
    "                   l_factor,max_no_impr,iter_mult,lb= -5,ub= 5):\n",
    "    step_size = 0.05\n",
    "    sol,count = {},0\n",
    "    sol['x']= get_initial()\n",
    "    sol['obj'] = get_obj(sol['x'])\n",
    "    for iters in range(max_iter):\n",
    "        big_stepsize = get_lstep_size(iters,step_size,s_factor,l_factor,iter_mult)\n",
    "        step,big_step = take_steps(sol['x'],step_size,big_stepsize)\n",
    "        if step['obj']<=sol['obj'] or big_step['obj']<=sol['obj']:\n",
    "            if big_step['obj'] <= step['obj']:\n",
    "                step_size,sol = big_stepsize,big_step\n",
    "            else:\n",
    "                sol = step\n",
    "            count = 0 \n",
    "        else:\n",
    "            count += 1\n",
    "            if count >= max_no_impr:\n",
    "                count,stepSize = 0,(step_size/s_factor) \n",
    "    \n",
    "    return sol \n",
    "        \n",
    "\n",
    "    \n",
    "    \n",
    "    "
   ]
  },
  {
   "cell_type": "code",
   "execution_count": 12,
   "metadata": {},
   "outputs": [],
   "source": [
    "# 问题参数\n",
    "problem_size = 2\n",
    "bounds = [-5,5]\n",
    "# 算法参数\n",
    "max_iter = 10000\n",
    "init_factor = 0.05\n",
    "s_factor = 1.3\n",
    "l_factor = 3.0\n",
    "iter_mult = 10\n",
    "max_no_impr = 30"
   ]
  },
  {
   "cell_type": "code",
   "execution_count": 13,
   "metadata": {},
   "outputs": [],
   "source": [
    "best = A_random_search(max_iter,init_factor,s_factor,l_factor,\n",
    "                      iter_mult,max_no_impr)"
   ]
  },
  {
   "cell_type": "code",
   "execution_count": 14,
   "metadata": {},
   "outputs": [
    {
     "data": {
      "text/plain": [
       "{'x': [0.02, 0.0], 'obj': 0.0}"
      ]
     },
     "execution_count": 14,
     "metadata": {},
     "output_type": "execute_result"
    }
   ],
   "source": [
    "best"
   ]
  }
 ],
 "metadata": {
  "kernelspec": {
   "display_name": "Python 3",
   "language": "python",
   "name": "python3"
  },
  "language_info": {
   "codemirror_mode": {
    "name": "ipython",
    "version": 3
   },
   "file_extension": ".py",
   "mimetype": "text/x-python",
   "name": "python",
   "nbconvert_exporter": "python",
   "pygments_lexer": "ipython3",
   "version": "3.7.1"
  }
 },
 "nbformat": 4,
 "nbformat_minor": 2
}
