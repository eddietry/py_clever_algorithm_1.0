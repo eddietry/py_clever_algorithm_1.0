{
 "cells": [
  {
   "cell_type": "code",
   "execution_count": 26,
   "metadata": {},
   "outputs": [],
   "source": [
    "import numpy as np\n",
    "from random import sample"
   ]
  },
  {
   "cell_type": "code",
   "execution_count": 64,
   "metadata": {},
   "outputs": [],
   "source": [
    "def get_init(string_len):\n",
    "    \n",
    "    return np.random.randint(2,size = string_len)\n",
    "\n",
    "def get_mutation(x,string_len):\n",
    "    index = sample(range(string_len),1)\n",
    "    if x[index] == 0:\n",
    "        x[index] = 1 \n",
    "    \n",
    "    return x\n",
    "\n",
    "def S_hill_climbing_search(sol_init,iter_times = 1000,string_len = 10):\n",
    "    n = 0\n",
    "    while n < iter_times:\n",
    "        new_sol = get_mutation(sol_init,string_len)\n",
    "        if(sum(sol_init)< sum(new_sol)):\n",
    "            sol_init = new_sol\n",
    "        n += 1\n",
    "    return sol_init"
   ]
  },
  {
   "cell_type": "code",
   "execution_count": 73,
   "metadata": {},
   "outputs": [
    {
     "name": "stdout",
     "output_type": "stream",
     "text": [
      "33\n",
      "56\n"
     ]
    }
   ],
   "source": [
    "sol_init = get_init(64)\n",
    "print(sum(sol_init))\n",
    "best = S_hill_climbing_search(sol_init,100,64)\n",
    "print(sum(best))"
   ]
  },
  {
   "cell_type": "code",
   "execution_count": null,
   "metadata": {},
   "outputs": [],
   "source": []
  },
  {
   "cell_type": "code",
   "execution_count": null,
   "metadata": {},
   "outputs": [],
   "source": []
  }
 ],
 "metadata": {
  "kernelspec": {
   "display_name": "Python 3",
   "language": "python",
   "name": "python3"
  },
  "language_info": {
   "codemirror_mode": {
    "name": "ipython",
    "version": 3
   },
   "file_extension": ".py",
   "mimetype": "text/x-python",
   "name": "python",
   "nbconvert_exporter": "python",
   "pygments_lexer": "ipython3",
   "version": "3.7.1"
  }
 },
 "nbformat": 4,
 "nbformat_minor": 2
}
