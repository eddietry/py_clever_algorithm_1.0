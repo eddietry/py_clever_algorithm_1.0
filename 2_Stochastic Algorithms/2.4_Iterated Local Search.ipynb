{
 "cells": [
  {
   "cell_type": "code",
   "execution_count": 3,
   "metadata": {},
   "outputs": [],
   "source": [
    "# TSP：BerLin52\n",
    "berlin52 = [[565,575],[25,185],[345,750],[945,685],[845,655],\n",
    "[880,660],[25,230],[525,1000],[580,1175],[650,1130],[1605,620],\n",
    "[1220,580],[1465,200],[1530,5],[845,680],[725,370],[145,665],\n",
    "[415,635],[510,875],[560,365],[300,465],[520,585],[480,415],\n",
    "[835,625],[975,580],[1215,245],[1320,315],[1250,400],[660,180],\n",
    "[410,250],[420,555],[575,665],[1150,1160],[700,580],[685,595],\n",
    "[685,610],[770,610],[795,645],[720,635],[760,650],[475,960],\n",
    "[95,260],[875,920],[700,500],[555,815],[830,485],[1170,65],\n",
    "[830,610],[605,625],[595,360],[1340,725],[1740,245]]"
   ]
  },
  {
   "cell_type": "code",
   "execution_count": 4,
   "metadata": {},
   "outputs": [],
   "source": [
    "# import \n",
    "import numpy as np\n",
    "from random import sample\n",
    "from sklearn.utils import shuffle\n",
    "from sklearn.metrics.pairwise import pairwise_distances\n",
    "import math\n",
    "import pandas as pd"
   ]
  },
  {
   "cell_type": "code",
   "execution_count": 5,
   "metadata": {},
   "outputs": [],
   "source": [
    "distances = pairwise_distances(berlin52)"
   ]
  },
  {
   "cell_type": "code",
   "execution_count": 69,
   "metadata": {},
   "outputs": [],
   "source": [
    "n_city = len(berlin52)"
   ]
  },
  {
   "cell_type": "code",
   "execution_count": 7,
   "metadata": {},
   "outputs": [
    {
     "data": {
      "text/plain": [
       "649.3265742290239"
      ]
     },
     "execution_count": 7,
     "metadata": {},
     "output_type": "execute_result"
    }
   ],
   "source": [
    "distances[1][2]"
   ]
  },
  {
   "cell_type": "code",
   "execution_count": 72,
   "metadata": {},
   "outputs": [],
   "source": [
    "def get_init_x(n_city = len(berlin52)):\n",
    "    return np.random.permutation(n_city)"
   ]
  },
  {
   "cell_type": "code",
   "execution_count": 8,
   "metadata": {},
   "outputs": [],
   "source": [
    "# 计算适应度函数：\n",
    "def get_fitness(x):\n",
    "    global distance\n",
    "    \n",
    "    fitness = sum([distances[x[i]][x[i+1]]  for i in range(len(x)-1)])\n",
    "    fitness += distances[x[len(x)-1]][x[0]]\n",
    "    return fitness"
   ]
  },
  {
   "cell_type": "code",
   "execution_count": 85,
   "metadata": {},
   "outputs": [],
   "source": [
    "def stochastic_2_op(x):\n",
    "    new_x = []\n",
    "#     x = list(x)\n",
    "    start,end = sorted(sample(range(2,len(x)),2))\n",
    "    new_x = x[:start]\n",
    "    new_x += (list(reversed(x[start:end])))\n",
    "    new_x += x[end:]\n",
    "    \n",
    "    return new_x"
   ]
  },
  {
   "cell_type": "code",
   "execution_count": 64,
   "metadata": {},
   "outputs": [],
   "source": [
    "def local_search(x,max_no_impr):\n",
    "    count = 0 \n",
    "    while count < max_no_impr:\n",
    "        new_x = stochastic_2_op(x)\n",
    "        if get_fitness(x)< get_fitness(new_x):\n",
    "            count += 1\n",
    "        else:\n",
    "            x = new_x\n",
    "    return x "
   ]
  },
  {
   "cell_type": "code",
   "execution_count": 87,
   "metadata": {},
   "outputs": [],
   "source": [
    "def double_bridge_move(x):\n",
    "    p1,p2,p3 = sorted(sample(range(2,len(x)),3))\n",
    "#     x = list(x)\n",
    "    new_x = x[:p1]+ x[p3:]+x[p2:p3]+x[p1:p2]\n",
    "    return new_x "
   ]
  },
  {
   "cell_type": "code",
   "execution_count": 95,
   "metadata": {},
   "outputs": [],
   "source": [
    "def I_local_search(max_iters=500,max_no_impr=30):\n",
    "    # 生成初始解\n",
    "    # double_bridge处理\n",
    "    # 2-opt 处理\n",
    "    sol = {}\n",
    "    sol['x'] = list(get_init_x())\n",
    "    sol['fitness'] = get_fitness(sol['x'])\n",
    "    sol['x'] = local_search(sol['x'],max_no_impr)\n",
    "    for i in  range(max_iters):\n",
    "        new_x = double_bridge_move(sol['x'])\n",
    "        new_x = local_search(new_x,max_no_impr)\n",
    "        if get_fitness(sol['x']) > get_fitness(new_x):\n",
    "            sol['x'] = new_x\n",
    "    \n",
    "    return sol "
   ]
  },
  {
   "cell_type": "code",
   "execution_count": 97,
   "metadata": {},
   "outputs": [
    {
     "data": {
      "text/plain": [
       "{'x': [13,\n",
       "  48,\n",
       "  0,\n",
       "  21,\n",
       "  30,\n",
       "  17,\n",
       "  2,\n",
       "  31,\n",
       "  44,\n",
       "  9,\n",
       "  8,\n",
       "  7,\n",
       "  40,\n",
       "  18,\n",
       "  16,\n",
       "  20,\n",
       "  41,\n",
       "  6,\n",
       "  1,\n",
       "  29,\n",
       "  22,\n",
       "  19,\n",
       "  28,\n",
       "  49,\n",
       "  15,\n",
       "  45,\n",
       "  43,\n",
       "  33,\n",
       "  34,\n",
       "  39,\n",
       "  38,\n",
       "  35,\n",
       "  36,\n",
       "  47,\n",
       "  23,\n",
       "  37,\n",
       "  14,\n",
       "  4,\n",
       "  5,\n",
       "  3,\n",
       "  42,\n",
       "  32,\n",
       "  50,\n",
       "  10,\n",
       "  51,\n",
       "  12,\n",
       "  26,\n",
       "  27,\n",
       "  11,\n",
       "  24,\n",
       "  25,\n",
       "  46],\n",
       " 'fitness': 32568.648810946263}"
      ]
     },
     "execution_count": 97,
     "metadata": {},
     "output_type": "execute_result"
    }
   ],
   "source": [
    "I_local_search(100000)"
   ]
  },
  {
   "cell_type": "code",
   "execution_count": null,
   "metadata": {},
   "outputs": [],
   "source": []
  }
 ],
 "metadata": {
  "kernelspec": {
   "display_name": "Python 3",
   "language": "python",
   "name": "python3"
  },
  "language_info": {
   "codemirror_mode": {
    "name": "ipython",
    "version": 3
   },
   "file_extension": ".py",
   "mimetype": "text/x-python",
   "name": "python",
   "nbconvert_exporter": "python",
   "pygments_lexer": "ipython3",
   "version": "3.7.1"
  }
 },
 "nbformat": 4,
 "nbformat_minor": 2
}
