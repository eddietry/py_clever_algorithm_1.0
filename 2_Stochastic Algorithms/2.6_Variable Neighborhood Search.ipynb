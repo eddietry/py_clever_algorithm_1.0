{
 "cells": [
  {
   "cell_type": "code",
   "execution_count": 1,
   "metadata": {},
   "outputs": [],
   "source": [
    "# import \n",
    "import numpy as np\n",
    "import random\n",
    "from random import sample\n",
    "import math"
   ]
  },
  {
   "cell_type": "code",
   "execution_count": 2,
   "metadata": {},
   "outputs": [],
   "source": [
    "def euc_2d(c1,c2):\n",
    "    return math.sqrt((c1[0]-c2[0])**2+(c1[1]-c2[1])**2)\n",
    "\n",
    "def cost(sol,cities):\n",
    "    distance = 0 \n",
    "    for i,c1 in enumerate(sol):\n",
    "        if (i == len(sol)-1):\n",
    "            c2 = sol[0]\n",
    "        else:\n",
    "            c2 = sol[i+1]\n",
    "        distance += euc_2d(cities[c1],cities[c2])\n",
    "    return distance\n",
    "\n",
    "def random_permutation(cities):\n",
    "    perm = np.random.permutation(len(cities))\n",
    "    return perm"
   ]
  },
  {
   "cell_type": "code",
   "execution_count": 20,
   "metadata": {},
   "outputs": [],
   "source": [
    "def stochastic_two_opt(x):\n",
    "    new_x = []\n",
    "    x = list(x)\n",
    "    start,end = sorted(sample(range(2,len(x)),2))\n",
    "    new_x = x[:start]\n",
    "    new_x += (list(reversed(x[start:end])))\n",
    "    new_x += x[end:]\n",
    "    \n",
    "    return new_x\n",
    "\n",
    "def local_search(best,cities,max_no_impr,neighborhood):\n",
    "    count = 0 \n",
    "    while count < max_no_impr:\n",
    "        candidate = {}\n",
    "        candidate['vector'] = best['vector']\n",
    "        for i in range(neighborhood):\n",
    "            candidate['vector'] = stochastic_two_opt(candidate['vector'])\n",
    "        candidate['cost'] = cost(candidate['vector'],cities)\n",
    "        if candidate['cost'] < best['cost']:\n",
    "            best = candidate\n",
    "            count = 0\n",
    "        else:\n",
    "            count += 1\n",
    "    return best"
   ]
  },
  {
   "cell_type": "code",
   "execution_count": null,
   "metadata": {},
   "outputs": [],
   "source": []
  },
  {
   "cell_type": "code",
   "execution_count": 15,
   "metadata": {},
   "outputs": [],
   "source": [
    "def search(cities, neighborhoods, max_no_improv, max_no_improv_ls):\n",
    "    best = {}\n",
    "    best['vector'] = random_permutation(cities)\n",
    "    best['cost'] = cost(best['vector'],cities)\n",
    "    iter_,count = 0,0\n",
    "    while iter_ < max_no_improv:\n",
    "        for neigh in neighborhoods:\n",
    "            candidate = {}\n",
    "            candidate['vector'] = best['vector']\n",
    "            for i in range(neigh):\n",
    "                candidate['vector'] = stochastic_two_opt(candidate['vector'])\n",
    "            candidate['cost'] = cost(candidate['vector'],cities) \n",
    "            candidate = local_search(candidate,cities,max_no_improv_ls,neigh)  \n",
    "            iter_ += 1\n",
    "            if candidate['cost'] < best['cost']:\n",
    "                best,count = candidate,0\n",
    "                print(best['cost'])\n",
    "            else:\n",
    "                count += 1\n",
    "    return best"
   ]
  },
  {
   "cell_type": "code",
   "execution_count": 24,
   "metadata": {},
   "outputs": [],
   "source": [
    "# problem configuration\n",
    "berlin52 = [[565,575],[25,185],[345,750],[945,685],[845,655],\n",
    "[880,660],[25,230],[525,1000],[580,1175],[650,1130],[1605,620],\n",
    "[1220,580],[1465,200],[1530,5],[845,680],[725,370],[145,665],\n",
    "[415,635],[510,875],[560,365],[300,465],[520,585],[480,415],\n",
    "[835,625],[975,580],[1215,245],[1320,315],[1250,400],[660,180],\n",
    "[410,250],[420,555],[575,665],[1150,1160],[700,580],[685,595],\n",
    "[685,610],[770,610],[795,645],[720,635],[760,650],[475,960],\n",
    "[95,260],[875,920],[700,500],[555,815],[830,485],[1170,65],\n",
    "[830,610],[605,625],[595,360],[1340,725],[1740,245]]\n",
    "# algorithm configuration\n",
    "max_no_improv = 5000\n",
    "max_no_improv_ls = 1000\n",
    "neighborhoods = [i for i in range(20)]\n",
    "# execute the algorithm\n",
    "# best = search(berlin52, neighborhoods, max_no_improv, max_no_improv_ls)"
   ]
  },
  {
   "cell_type": "code",
   "execution_count": 25,
   "metadata": {},
   "outputs": [
    {
     "name": "stdout",
     "output_type": "stream",
     "text": [
      "10206.115199522043\n",
      "9855.762544167828\n",
      "9185.491293378607\n",
      "9143.55660060584\n",
      "9032.706738566278\n",
      "8981.310102790041\n",
      "8952.12411729225\n",
      "8938.231590619798\n",
      "8933.604782499704\n",
      "8818.807336297326\n",
      "8720.344541778206\n",
      "8703.624205067568\n",
      "8670.798361534322\n",
      "8616.595148426539\n",
      "8595.09078642483\n"
     ]
    },
    {
     "data": {
      "text/plain": [
       "{'vector': [26,\n",
       "  23,\n",
       "  47,\n",
       "  37,\n",
       "  36,\n",
       "  39,\n",
       "  38,\n",
       "  35,\n",
       "  34,\n",
       "  33,\n",
       "  43,\n",
       "  45,\n",
       "  15,\n",
       "  28,\n",
       "  49,\n",
       "  19,\n",
       "  22,\n",
       "  29,\n",
       "  1,\n",
       "  6,\n",
       "  41,\n",
       "  20,\n",
       "  16,\n",
       "  2,\n",
       "  17,\n",
       "  30,\n",
       "  21,\n",
       "  0,\n",
       "  48,\n",
       "  31,\n",
       "  44,\n",
       "  18,\n",
       "  40,\n",
       "  7,\n",
       "  8,\n",
       "  9,\n",
       "  42,\n",
       "  32,\n",
       "  50,\n",
       "  10,\n",
       "  51,\n",
       "  13,\n",
       "  12,\n",
       "  46,\n",
       "  25,\n",
       "  27,\n",
       "  11,\n",
       "  24,\n",
       "  3,\n",
       "  5,\n",
       "  14,\n",
       "  4],\n",
       " 'cost': 8595.09078642483}"
      ]
     },
     "execution_count": 25,
     "metadata": {},
     "output_type": "execute_result"
    }
   ],
   "source": [
    " search(berlin52, neighborhoods, max_no_improv, max_no_improv_ls)"
   ]
  },
  {
   "cell_type": "code",
   "execution_count": null,
   "metadata": {},
   "outputs": [],
   "source": []
  }
 ],
 "metadata": {
  "kernelspec": {
   "display_name": "Python 3",
   "language": "python",
   "name": "python3"
  },
  "language_info": {
   "codemirror_mode": {
    "name": "ipython",
    "version": 3
   },
   "file_extension": ".py",
   "mimetype": "text/x-python",
   "name": "python",
   "nbconvert_exporter": "python",
   "pygments_lexer": "ipython3",
   "version": "3.7.1"
  }
 },
 "nbformat": 4,
 "nbformat_minor": 2
}
