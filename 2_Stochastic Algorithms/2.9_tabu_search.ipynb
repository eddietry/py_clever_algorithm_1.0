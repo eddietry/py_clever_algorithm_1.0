{
 "cells": [
  {
   "cell_type": "code",
   "execution_count": 8,
   "metadata": {},
   "outputs": [],
   "source": [
    "import math\n",
    "import random\n",
    "from random import sample\n",
    "import numpy as np\n",
    "\n",
    "def euc_2d(c1,c2):\n",
    "    return math.sqrt((c1[0]-c2[0])**2+(c1[1]-c2[1])**2)\n",
    "\n",
    "def cost(sol,cities):\n",
    "    distance = 0 \n",
    "    for i,c1 in enumerate(sol):\n",
    "        if (i == len(sol)-1):\n",
    "            c2 = sol[0]\n",
    "        else:\n",
    "            c2 = sol[i+1]\n",
    "        distance += euc_2d(cities[c1],cities[c2])\n",
    "    return distance\n",
    "\n",
    "def random_permutation(cities):\n",
    "    perm = np.random.permutation(len(cities))\n",
    "    return perm"
   ]
  },
  {
   "cell_type": "code",
   "execution_count": 13,
   "metadata": {},
   "outputs": [],
   "source": [
    "def stochastic_2_op(x):\n",
    "    new_x = []\n",
    "    x = list(x)\n",
    "    start,end = sorted(sample(range(2,len(x)),2))\n",
    "    new_x = x[:start]\n",
    "    new_x += (list(reversed(x[start:end])))\n",
    "    new_x += x[end:]\n",
    "    edges = [[start-1,start],[end-1,end]]\n",
    "    return new_x,edges"
   ]
  },
  {
   "cell_type": "code",
   "execution_count": 22,
   "metadata": {},
   "outputs": [],
   "source": [
    "def is_tabu(x,tabu_list):\n",
    "    for i,c1 in enumerate(x):\n",
    "        if i == len(x)-1:\n",
    "            c2 = x[0]\n",
    "        else:\n",
    "            c2 = x[i+1]\n",
    "        if [c1,c2] in tabu_list:\n",
    "            return True\n",
    "    return False"
   ]
  },
  {
   "cell_type": "code",
   "execution_count": 51,
   "metadata": {},
   "outputs": [],
   "source": [
    "def generate_candidate(best, tabu_list, cities):\n",
    "    x,edges = None,None\n",
    "    x,edges = stochastic_2_op(best['vector'])\n",
    "    while is_tabu(x,tabu_list):\n",
    "        x,edges = stochastic_2_op(best['vector'])\n",
    "    candidate = {'vector':x}\n",
    "    candidate['cost'] = cost(candidate['vector'], cities)\n",
    "    candidate['edges'] = edges\n",
    "    return candidate"
   ]
  },
  {
   "cell_type": "code",
   "execution_count": 58,
   "metadata": {},
   "outputs": [],
   "source": [
    "def search(cities, tabu_list_size, candidate_list_size, max_iter):\n",
    "    current = {'vector': random_permutation(cities)}\n",
    "    current['cost'] = cost(current['vector'],cities)\n",
    "    best = current\n",
    "    tabu_list = []\n",
    "    for i in range(max_iter):\n",
    "        candidates = [ generate_candidate(current,tabu_list,cities) for j in range(candidate_list_size)]\n",
    "        candidates.sort(key = lambda k:k['cost'])\n",
    "        best_candidate = candidates[0]\n",
    "        if best_candidate['cost'] < current['cost']:\n",
    "            current = best_candidate\n",
    "            if best_candidate['cost'] < best['cost']:\n",
    "                best = best_candidate\n",
    "            for  edge in best_candidate['edges']:\n",
    "                tabu_list.append(edge)\n",
    "            while len(tabu_list) > tabu_list_size:\n",
    "                tabu_list.pop()\n",
    "    return best['vector'],best['cost']"
   ]
  },
  {
   "cell_type": "code",
   "execution_count": 62,
   "metadata": {},
   "outputs": [],
   "source": [
    "# problem configuration\n",
    "berlin52 = [[565,575],[25,185],[345,750],[945,685],[845,655],\n",
    "[880,660],[25,230],[525,1000],[580,1175],[650,1130],[1605,620],\n",
    "[1220,580],[1465,200],[1530,5],[845,680],[725,370],[145,665],\n",
    "[415,635],[510,875],[560,365],[300,465],[520,585],[480,415],\n",
    "[835,625],[975,580],[1215,245],[1320,315],[1250,400],[660,180],\n",
    "[410,250],[420,555],[575,665],[1150,1160],[700,580],[685,595],\n",
    "[685,610],[770,610],[795,645],[720,635],[760,650],[475,960],\n",
    "[95,260],[875,920],[700,500],[555,815],[830,485],[1170,65],\n",
    "[830,610],[605,625],[595,360],[1340,725],[1740,245]]\n",
    "# algorithm configuration\n",
    "max_iter = 1000\n",
    "tabu_list_size = 50\n",
    "max_candidates = 500\n",
    "# execute the algorithm\n",
    "# best = search(berlin52, tabu_list_size, max_candidates, max_iter)"
   ]
  },
  {
   "cell_type": "code",
   "execution_count": 63,
   "metadata": {},
   "outputs": [
    {
     "data": {
      "text/plain": [
       "([42,\n",
       "  16,\n",
       "  6,\n",
       "  1,\n",
       "  20,\n",
       "  2,\n",
       "  18,\n",
       "  9,\n",
       "  48,\n",
       "  49,\n",
       "  15,\n",
       "  35,\n",
       "  34,\n",
       "  24,\n",
       "  50,\n",
       "  10,\n",
       "  25,\n",
       "  27,\n",
       "  26,\n",
       "  51,\n",
       "  13,\n",
       "  12,\n",
       "  46,\n",
       "  43,\n",
       "  33,\n",
       "  39,\n",
       "  47,\n",
       "  14,\n",
       "  5,\n",
       "  3,\n",
       "  8,\n",
       "  40,\n",
       "  21,\n",
       "  30,\n",
       "  22,\n",
       "  19,\n",
       "  29,\n",
       "  28,\n",
       "  41,\n",
       "  17,\n",
       "  0,\n",
       "  31,\n",
       "  44,\n",
       "  7,\n",
       "  32,\n",
       "  11,\n",
       "  45,\n",
       "  36,\n",
       "  38,\n",
       "  37,\n",
       "  23,\n",
       "  4],\n",
       " 13663.095117092462)"
      ]
     },
     "execution_count": 63,
     "metadata": {},
     "output_type": "execute_result"
    }
   ],
   "source": [
    "search(berlin52, tabu_list_size, max_candidates, max_iter)"
   ]
  },
  {
   "cell_type": "code",
   "execution_count": null,
   "metadata": {},
   "outputs": [],
   "source": []
  }
 ],
 "metadata": {
  "kernelspec": {
   "display_name": "Python 3",
   "language": "python",
   "name": "python3"
  },
  "language_info": {
   "codemirror_mode": {
    "name": "ipython",
    "version": 3
   },
   "file_extension": ".py",
   "mimetype": "text/x-python",
   "name": "python",
   "nbconvert_exporter": "python",
   "pygments_lexer": "ipython3",
   "version": "3.7.1"
  }
 },
 "nbformat": 4,
 "nbformat_minor": 2
}
