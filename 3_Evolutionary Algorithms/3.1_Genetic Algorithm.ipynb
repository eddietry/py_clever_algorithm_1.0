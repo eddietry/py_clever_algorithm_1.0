{
 "cells": [
  {
   "cell_type": "code",
   "execution_count": null,
   "metadata": {},
   "outputs": [],
   "source": [
    "#  OneMax\n",
    "# 01~Genetic Algorithm"
   ]
  },
  {
   "cell_type": "code",
   "execution_count": 65,
   "metadata": {},
   "outputs": [],
   "source": [
    "import numpy as np\n",
    "import random"
   ]
  },
  {
   "cell_type": "code",
   "execution_count": 66,
   "metadata": {},
   "outputs": [],
   "source": [
    "def get_obj(sol):\n",
    "    return sum(sol)\n",
    "    \n",
    "def get_pop(pop_size,num_bits):\n",
    "    pop = []\n",
    "    for p in range(pop_size):\n",
    "        tmp = [random.randint(0,1) for i in range(num_bits)]\n",
    "        pop.append(tmp)\n",
    "   \n",
    "    return pop\n",
    "\n",
    "def binary_choose(pop):\n",
    "    tmp = random.sample(pop,2)\n",
    "    tmp.sort(key=lambda x: get_obj(x),reverse=True)\n",
    "    return tmp[0]"
   ]
  },
  {
   "cell_type": "code",
   "execution_count": 77,
   "metadata": {},
   "outputs": [],
   "source": [
    "def point_mutation(sol,mut_rate):\n",
    "    sol_new = []\n",
    "    for x in sol:\n",
    "        r = random.random()\n",
    "        if r < mut_rate:\n",
    "            sol_new.append(int(not(x)))\n",
    "        else:\n",
    "            sol_new.append(x)\n",
    "    return sol_new\n",
    "\n",
    "def crossover(p1,p2,p_cross):\n",
    "    ch1 = []\n",
    "    if random.random()> p_cross:\n",
    "        point = random.sample(range(1,num_bits-1),1)[0]\n",
    "        ch1 += p1[0:point]\n",
    "        ch1 += p2[point+1:]\n",
    "    else:\n",
    "        ch1 = p1\n",
    "    return ch1"
   ]
  },
  {
   "cell_type": "code",
   "execution_count": 73,
   "metadata": {},
   "outputs": [],
   "source": [
    "def get_pop_next(pop,pop_size,p_mut,p_cross):\n",
    "    pop_next = []\n",
    "    for i in range(pop_size):\n",
    "        pop_next.append(binary_choose(pop))\n",
    "    \n",
    "    child = []\n",
    "    for i in range(pop_size):\n",
    "        p1,p2 = random.sample(pop_next,2)\n",
    "        ch1 = crossover(p1,p2,p_cross)\n",
    "        ch1 = point_mutation(ch1,p_mut)\n",
    "        child.append(ch1)\n",
    "    return child  "
   ]
  },
  {
   "cell_type": "code",
   "execution_count": 69,
   "metadata": {},
   "outputs": [],
   "source": [
    "def search(pop_size,num_bits,max_gens,p_mut,p_cross):\n",
    "    pop = get_pop(pop_size,num_bits)\n",
    "    best_hist = []\n",
    "    pop.sort(key = lambda k:get_obj(k),reverse=True)\n",
    "    best = {}\n",
    "    best['x'] = pop[0]\n",
    "    best['fitness'] = sum(pop[0])\n",
    "    n = 0\n",
    "    while n < max_gens:\n",
    "        pop_next = get_pop_next(pop,pop_size,p_mut,p_cross)\n",
    "        pop_next.sort(key = lambda k:get_obj(k),reverse=True)\n",
    "        if get_obj(pop_next[0]) > best['fitness']:\n",
    "            best['x'] = pop_next[0]\n",
    "            best['fitness'] = get_obj(best['x'])\n",
    "        n += 1\n",
    "    return best"
   ]
  },
  {
   "cell_type": "code",
   "execution_count": 79,
   "metadata": {},
   "outputs": [],
   "source": [
    "# problem configuration\n",
    "num_bits = 64\n",
    "# algorithm configuration\n",
    "max_gens = 1000\n",
    "pop_size = 100\n",
    "p_crossover = 0.98\n",
    "p_mutation = 1.0/num_bits\n",
    "# execute the algorithm\n",
    "# best = search(pop_size,num_bits,max_gens,p_mutation,p_crossover)"
   ]
  },
  {
   "cell_type": "code",
   "execution_count": 80,
   "metadata": {},
   "outputs": [
    {
     "data": {
      "text/plain": [
       "{'x': [1,\n",
       "  1,\n",
       "  1,\n",
       "  1,\n",
       "  1,\n",
       "  0,\n",
       "  1,\n",
       "  1,\n",
       "  1,\n",
       "  1,\n",
       "  0,\n",
       "  1,\n",
       "  1,\n",
       "  0,\n",
       "  1,\n",
       "  1,\n",
       "  1,\n",
       "  0,\n",
       "  0,\n",
       "  1,\n",
       "  1,\n",
       "  1,\n",
       "  0,\n",
       "  1,\n",
       "  0,\n",
       "  1,\n",
       "  0,\n",
       "  0,\n",
       "  1,\n",
       "  1,\n",
       "  1,\n",
       "  1,\n",
       "  0,\n",
       "  1,\n",
       "  1,\n",
       "  1,\n",
       "  0,\n",
       "  1,\n",
       "  1,\n",
       "  1,\n",
       "  1,\n",
       "  0,\n",
       "  1,\n",
       "  0,\n",
       "  0,\n",
       "  1,\n",
       "  0,\n",
       "  1,\n",
       "  1,\n",
       "  1,\n",
       "  1,\n",
       "  1,\n",
       "  1,\n",
       "  1,\n",
       "  1,\n",
       "  1,\n",
       "  1,\n",
       "  1,\n",
       "  1,\n",
       "  1,\n",
       "  1,\n",
       "  1,\n",
       "  0],\n",
       " 'fitness': 47}"
      ]
     },
     "execution_count": 80,
     "metadata": {},
     "output_type": "execute_result"
    }
   ],
   "source": [
    "search(pop_size,num_bits,max_gens,p_mutation,p_crossover)"
   ]
  },
  {
   "cell_type": "code",
   "execution_count": null,
   "metadata": {},
   "outputs": [],
   "source": []
  }
 ],
 "metadata": {
  "kernelspec": {
   "display_name": "Python 3",
   "language": "python",
   "name": "python3"
  },
  "language_info": {
   "codemirror_mode": {
    "name": "ipython",
    "version": 3
   },
   "file_extension": ".py",
   "mimetype": "text/x-python",
   "name": "python",
   "nbconvert_exporter": "python",
   "pygments_lexer": "ipython3",
   "version": "3.7.1"
  }
 },
 "nbformat": 4,
 "nbformat_minor": 2
}
