{
 "cells": [
  {
   "cell_type": "code",
   "execution_count": 1,
   "metadata": {},
   "outputs": [],
   "source": [
    "# TSP：BerLin52\n",
    "berlin52 = [[565,575],[25,185],[345,750],[945,685],[845,655],\n",
    "[880,660],[25,230],[525,1000],[580,1175],[650,1130],[1605,620],\n",
    "[1220,580],[1465,200],[1530,5],[845,680],[725,370],[145,665],\n",
    "[415,635],[510,875],[560,365],[300,465],[520,585],[480,415],\n",
    "[835,625],[975,580],[1215,245],[1320,315],[1250,400],[660,180],\n",
    "[410,250],[420,555],[575,665],[1150,1160],[700,580],[685,595],\n",
    "[685,610],[770,610],[795,645],[720,635],[760,650],[475,960],\n",
    "[95,260],[875,920],[700,500],[555,815],[830,485],[1170,65],\n",
    "[830,610],[605,625],[595,360],[1340,725],[1740,245]]"
   ]
  },
  {
   "cell_type": "code",
   "execution_count": 2,
   "metadata": {},
   "outputs": [],
   "source": [
    "# import \n",
    "import numpy as np\n",
    "from random import sample\n",
    "import random\n",
    "from sklearn.utils import shuffle\n",
    "from sklearn.metrics.pairwise import pairwise_distances\n",
    "import math\n",
    "import pandas as pd"
   ]
  },
  {
   "cell_type": "code",
   "execution_count": 3,
   "metadata": {},
   "outputs": [],
   "source": [
    "# 根据city_id坐标计算距离矩阵distance\n",
    "distances = pairwise_distances(berlin52)\n",
    "n_citys = len(berlin52)\n",
    "# 每个city_id距离排序rank\n",
    "dist_rank={}\n",
    "for i in range(52):\n",
    "    dist_rank[i] = sorted(distances[i])"
   ]
  },
  {
   "cell_type": "code",
   "execution_count": 4,
   "metadata": {},
   "outputs": [],
   "source": [
    "# 初始解\n",
    "def get_init_x(n_city = len(berlin52)):\n",
    "    return np.random.permutation(n_city)\n",
    "# 计算适应度函数：\n",
    "def get_fitness(x):\n",
    "    global distance\n",
    "    \n",
    "    fitness = sum([distances[x[i]][x[i+1]]  for i in range(len(x)-1)])\n",
    "    fitness += distances[x[len(x)-1]][x[0]]\n",
    "    return fitness"
   ]
  },
  {
   "cell_type": "code",
   "execution_count": null,
   "metadata": {},
   "outputs": [],
   "source": [
    "# 一个city_id,前后相邻节点id，所对应的rank,计算rank_fit\n",
    "# 对于所有的city_id,进行probabilistic_selection()\n",
    "# 根据selected_id,找到相邻节点c1,c2"
   ]
  },
  {
   "cell_type": "code",
   "execution_count": 5,
   "metadata": {},
   "outputs": [],
   "source": [
    "s_start = get_init_x()"
   ]
  },
  {
   "cell_type": "code",
   "execution_count": 6,
   "metadata": {},
   "outputs": [
    {
     "data": {
      "text/plain": [
       "array([15, 27, 29, 45, 49, 23, 17, 26, 50, 21, 30,  3, 18,  6, 44, 22,  9,\n",
       "       42, 37, 19, 51, 38, 12, 36,  5, 40, 31, 46, 33,  7, 41, 28, 47, 20,\n",
       "       16, 48,  2, 25, 34, 11, 13, 39, 35, 43, 10,  8,  0, 24,  1,  4, 32,\n",
       "       14])"
      ]
     },
     "execution_count": 6,
     "metadata": {},
     "output_type": "execute_result"
    }
   ],
   "source": [
    "s_start"
   ]
  },
  {
   "cell_type": "code",
   "execution_count": 188,
   "metadata": {},
   "outputs": [
    {
     "data": {
      "text/plain": [
       "(3, 48)"
      ]
     },
     "execution_count": 188,
     "metadata": {},
     "output_type": "execute_result"
    }
   ],
   "source": [
    "get_edges_for_city(s_start,5)"
   ]
  },
  {
   "cell_type": "code",
   "execution_count": null,
   "metadata": {},
   "outputs": [],
   "source": []
  },
  {
   "cell_type": "code",
   "execution_count": 205,
   "metadata": {},
   "outputs": [],
   "source": [
    "def make_selection(components):\n",
    "    sel = random.random()\n",
    "    selected_id = 0\n",
    "    for i in range(len(components)):\n",
    "        sel -= components[i]\n",
    "        if sel < 0 :\n",
    "            selected_id = i\n",
    "            \n",
    "    return selected_id\n",
    "\n",
    "def get_prob_selection(ordered_components,tao,exclude=[]):\n",
    "    # 计算累计概率\n",
    "    rank_prob = [ (i+1)**(-tao) for i in range(len(ordered_components))]\n",
    "    rank_prob1 = [  i/ sum(rank_prob) for i in rank_prob]\n",
    "    # 随机选择一个select_id\n",
    "    selected_id = make_selection(rank_prob1)\n",
    "    while selected_id in exclude:\n",
    "        selected_id = make_selection(rank_prob1)\n",
    "    return selected_id\n",
    "\n",
    "def get_long_edge(city_id,edges,neighbors):\n",
    "#     c = 0\n",
    "    if distances[city_id][edges[0]] > distances[city_id][edges[1]]:\n",
    "        c = edges[0]\n",
    "    else:\n",
    "        c = edges[1]\n",
    "    return c\n",
    "\n"
   ]
  },
  {
   "cell_type": "code",
   "execution_count": 202,
   "metadata": {},
   "outputs": [],
   "source": [
    "\n",
    "def vary_permutation(x,selected_id,new_neighbor,long_edge):\n",
    "    new_x = []\n",
    "    c1,c2 = x.index(selected_id),x.index(new_neighbor)\n",
    "    p1,p2 = min(c1,c2),max(c1,c2)\n",
    "    right = 0 if(c1==len(x)-1) else c1+1\n",
    "    if right == long_edge:\n",
    "        new_x = x[:p1+1]\n",
    "        new_x += list(reversed(x[p1+1:p2]))\n",
    "        new_x += x[p2:]\n",
    "    else:\n",
    "        new_x = x[:p1]\n",
    "        new_x += list(reversed(x[p1:p2]))\n",
    "        new_x += x[p2:]\n",
    "    \n",
    "    return new_x\n",
    "        \n",
    "def create_new_x(tao,x):\n",
    "    city_fitnesses = get_rank_fitss(x)\n",
    "    selected_city = get_prob_selection(list(reversed(city_fitnesses)),tao)\n",
    "    edges = get_edges_for_city(x,selected_city)\n",
    "    neighbors = dist_rank[selected_city]\n",
    "    new_neighbor = get_prob_selection(neighbors,tao,edges)\n",
    "    long_edge = get_long_edge(selected_city,edges, neighbors)\n",
    "    return vary_permutation(x, selected_city, new_neighbor, long_edge)"
   ]
  },
  {
   "cell_type": "code",
   "execution_count": 183,
   "metadata": {},
   "outputs": [],
   "source": [
    "def EO_search(max_iterations= 5,tao =1.2):\n",
    "    sol = {}\n",
    "    sol['x'] = list(get_init_x())\n",
    "    sol['fitness'] = get_fitness(sol['x'])\n",
    "    print(sol)\n",
    "    for i in  range(max_iterations):\n",
    "        new_x = create_new_x(tao,sol['x'])\n",
    "        print(new_x)\n",
    "        if get_fitness(sol['x']) > get_fitness(new_x):\n",
    "            sol['x'] = new_x\n",
    "            print(new_x)\n",
    "    return sol"
   ]
  },
  {
   "cell_type": "code",
   "execution_count": null,
   "metadata": {},
   "outputs": [],
   "source": [
    "# 分段检查\n",
    "## 初始解 OK\n",
    "## 目标函数fitness OK\n",
    "## get_rank_fitss OK\n",
    "## "
   ]
  },
  {
   "cell_type": "code",
   "execution_count": 7,
   "metadata": {},
   "outputs": [],
   "source": [
    "# get_edges_for_city(x,city_id)\n",
    "def get_edges_for_city(x,city_id):\n",
    "    c1,c2 = 0,0\n",
    "    if x.index(city_id)== len(x)-1:\n",
    "        c1,c2 = x[x.index(city_id)-1],x[0]\n",
    "    else:\n",
    "        c1,c2 = x[x.index(city_id)-1],x[x.index(city_id)+1]\n",
    "    return c1,c2 \n",
    "#  get_fitness_city(city_id,c1,c2)  \n",
    "def get_neighbor_rank(city_id,c1,c2,ignore=[]):\n",
    "    # rank_fit 约小距离越大\n",
    "    r1 = dist_rank[city_id].index(distances[city_id][c1])\n",
    "    r2 = dist_rank[city_id].index(distances[city_id][c2])\n",
    "    rank_fit = 3/(r1+r2)\n",
    "    return rank_fit\n",
    "#  probabilistic_selection()\n",
    "def get_rank_fitss(x):\n",
    "    rank_fitss = []\n",
    "    for city_id in x:\n",
    "        c1,c2 = get_edges_for_city(x,city_id)\n",
    "        rank_fitss.append(get_neighbor_rank(city_id,c1,c2))\n",
    "    rank_fitss.sort()\n",
    "    return rank_fitss"
   ]
  },
  {
   "cell_type": "code",
   "execution_count": null,
   "metadata": {},
   "outputs": [],
   "source": []
  }
 ],
 "metadata": {
  "kernelspec": {
   "display_name": "Python 3",
   "language": "python",
   "name": "python3"
  },
  "language_info": {
   "codemirror_mode": {
    "name": "ipython",
    "version": 3
   },
   "file_extension": ".py",
   "mimetype": "text/x-python",
   "name": "python",
   "nbconvert_exporter": "python",
   "pygments_lexer": "ipython3",
   "version": "3.7.1"
  }
 },
 "nbformat": 4,
 "nbformat_minor": 2
}
