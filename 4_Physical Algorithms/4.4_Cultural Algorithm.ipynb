{
 "cells": [
  {
   "cell_type": "code",
   "execution_count": 37,
   "metadata": {},
   "outputs": [],
   "source": [
    "import math\n",
    "import random\n",
    "import numpy as np"
   ]
  },
  {
   "cell_type": "code",
   "execution_count": 2,
   "metadata": {},
   "outputs": [],
   "source": [
    "def get_obj(sol):\n",
    "    return round(sum([ x**2 for x in sol]),2)"
   ]
  },
  {
   "cell_type": "code",
   "execution_count": 72,
   "metadata": {},
   "outputs": [],
   "source": [
    "# 随机生成初始解群体get_pop()\n",
    "def get_sol(search_space):def get_obj(sol):\n",
    "    return round(sum([ x**2 for x in sol]),2)\n",
    "    sol = []\n",
    "    for i in range(len(search_space)):\n",
    "        sol.append(round(random.uniform(search_space[i][0],search_space[i][1]),4))\n",
    "    return sol\n",
    "# 获取当前群体最优解信息：\n",
    "def get_best(pop):\n",
    "    pop.sort(key = lambda k:get_obj(k))\n",
    "    best = {}\n",
    "    best['x'] = pop[0]\n",
    "    best['fitness'] = get_obj(pop[0])\n",
    "    return best \n",
    "# 前id_项的个体解边界\n",
    "def get_new_bounds(pop,id_):\n",
    "    minmax = []\n",
    "    for i in range(problem_size):      \n",
    "        lb = min([p[i] for p in pop[:id_]])\n",
    "        ub = max([p[i] for p in pop[:id_]])\n",
    "        minmax.append([lb,ub])\n",
    "    return minmax\n",
    "#  \n"
   ]
  },
  {
   "cell_type": "code",
   "execution_count": 96,
   "metadata": {},
   "outputs": [],
   "source": [
    "def search(max_gens,search_space, pop_size, num_accepted):\n",
    "    n = 0\n",
    "    # initialize and evaluate\n",
    "    pop = [get_sol(search_space) for i in range(pop_size)]\n",
    "    pop.sort(key = lambda k:get_obj(k))\n",
    "    # update situational knowledge\n",
    "    best = get_best(pop)\n",
    "    while n < max_gens:\n",
    "        # get new bounds \n",
    "        minmax = get_new_bounds(pop,num_accepted)\n",
    "        # create next generation\n",
    "        pop_new = [ get_sol(minmax) for i in range(pop_size)]\n",
    "        pop = random.sample(pop+pop_new,pop_size)\n",
    "        # evaluate\n",
    "        best_new = get_best(pop)\n",
    "        if best_new['fitness'] < best['fitness']:\n",
    "            best = best_new\n",
    "        n +=1\n",
    "        \n",
    "    return best\n",
    "    "
   ]
  },
  {
   "cell_type": "code",
   "execution_count": 93,
   "metadata": {},
   "outputs": [],
   "source": [
    "# problem configuration\n",
    "problem_size = 2\n",
    "search_space = [ [-5,5] for i in range(problem_size)]\n",
    "# algorithm configuration\n",
    "max_gens = 200\n",
    "pop_size = 100\n",
    "num_accepted = int(pop_size*0.20)\n",
    "# execute the algorithm\n",
    "# best = search(max_gens, search_space, pop_size, num_accepted)"
   ]
  },
  {
   "cell_type": "code",
   "execution_count": 101,
   "metadata": {},
   "outputs": [
    {
     "name": "stdout",
     "output_type": "stream",
     "text": [
      "{'x': [0.0156, -0.0393], 'fitness': 0.0}\n"
     ]
    }
   ],
   "source": [
    "n = 0\n",
    "# initialize and evaluate\n",
    "pop = [get_sol(search_space) for i in range(pop_size)]\n",
    "pop.sort(key = lambda k:get_obj(k))\n",
    "# update situational knowledge\n",
    "best = get_best(pop)\n",
    "while n < max_gens:\n",
    "    # get new bounds \n",
    "    minmax = get_new_bounds(pop,num_accepted)\n",
    "    # create next generation\n",
    "    pop_new = [ get_sol(minmax) for i in range(pop_size)]\n",
    "    pop = random.sample(pop+pop_new,pop_size)\n",
    "    # evaluate\n",
    "    best_new = get_best(pop)\n",
    "    if best_new['fitness'] < best['fitness']:\n",
    "        best = best_new\n",
    "    n +=1\n",
    "print(best)"
   ]
  },
  {
   "cell_type": "code",
   "execution_count": null,
   "metadata": {},
   "outputs": [],
   "source": []
  }
 ],
 "metadata": {
  "kernelspec": {
   "display_name": "Python 3",
   "language": "python",
   "name": "python3"
  },
  "language_info": {
   "codemirror_mode": {
    "name": "ipython",
    "version": 3
   },
   "file_extension": ".py",
   "mimetype": "text/x-python",
   "name": "python",
   "nbconvert_exporter": "python",
   "pygments_lexer": "ipython3",
   "version": "3.7.1"
  }
 },
 "nbformat": 4,
 "nbformat_minor": 2
}
