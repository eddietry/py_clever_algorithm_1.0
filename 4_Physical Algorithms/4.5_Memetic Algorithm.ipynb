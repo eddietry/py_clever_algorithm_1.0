{
 "cells": [
  {
   "cell_type": "code",
   "execution_count": 257,
   "metadata": {},
   "outputs": [],
   "source": [
    "import math\n",
    "import random\n",
    "import numpy as np"
   ]
  },
  {
   "cell_type": "code",
   "execution_count": 258,
   "metadata": {},
   "outputs": [],
   "source": [
    "def get_obj(candidate,search_space, param_bits):\n",
    "    sol = decode(candidate, search_space, param_bits)\n",
    "    return round(sum([ x**2 for x in sol]),2)\n"
   ]
  },
  {
   "cell_type": "code",
   "execution_count": 259,
   "metadata": {},
   "outputs": [],
   "source": [
    "def decode(bitstring,search_space,bits_per_param=16):\n",
    "    vector = []\n",
    "    for i,bounds in enumerate(search_space):\n",
    "        min_,max_ = bounds\n",
    "        off,sum_ = i*bits_per_param,0\n",
    "        param = list(reversed(bitstring[off:off+bits_per_param]))\n",
    "        sum_ =  sum([  2**float(param.index(p)) for p in param if p ==1])\n",
    "        value = round(min_ + ((max_-min_)/((2.0**float(bits_per_param))-1.0)) * sum_,3)\n",
    "        vector.append(value)\n",
    "    return vector"
   ]
  },
  {
   "cell_type": "code",
   "execution_count": 260,
   "metadata": {},
   "outputs": [],
   "source": [
    "def get_sol(problem_size=3,bits_per_param=16):\n",
    "    x = [ random.randint(0,1) for i in range(problem_size*bits_per_param)]\n",
    "    return x"
   ]
  },
  {
   "cell_type": "code",
   "execution_count": 261,
   "metadata": {},
   "outputs": [],
   "source": [
    "def point_mutation(sol,mut_rate):\n",
    "    sol_new = []\n",
    "    for x in sol:\n",
    "        r = random.random()\n",
    "        if r < mut_rate:\n",
    "            sol_new.append(int(not(x)))\n",
    "        else:\n",
    "            sol_new.append(x)\n",
    "    return sol_new"
   ]
  },
  {
   "cell_type": "code",
   "execution_count": 262,
   "metadata": {},
   "outputs": [],
   "source": [
    "def binary_choose(pop,param_bits=16):\n",
    "    tmp = random.sample(pop,2)\n",
    "    tmp.sort(key=lambda x: get_obj(x,search_space, param_bits))\n",
    "    return tmp[0]\n"
   ]
  },
  {
   "cell_type": "code",
   "execution_count": 263,
   "metadata": {},
   "outputs": [],
   "source": [
    "def crossover(p1, p2, rate):\n",
    "    child = []\n",
    "    for i in range(len(p1)):\n",
    "        tmp = p1[i] if random.random() >= rate else p2[i]\n",
    "        child.append(tmp)\n",
    "    return child "
   ]
  },
  {
   "cell_type": "code",
   "execution_count": 264,
   "metadata": {},
   "outputs": [],
   "source": [
    "def get_pop_next(pop,pop_size,p_cross,p_mut,search_space,max_local_gens,bits_per_param):\n",
    "    pop_next = []\n",
    "    for i in range(pop_size):\n",
    "        pop_next.append(binary_choose(pop))\n",
    "    \n",
    "    child = []\n",
    "    for i in range(pop_size):\n",
    "        p1,p2 = random.sample(pop_next,2)\n",
    "        ch1 = crossover(p1,p2,p_cross)\n",
    "        ch1 = point_mutation(ch1,p_mut)\n",
    "        ch1 = bitclimber(ch1,search_space,p_mut,max_local_gens,bits_per_param)\n",
    "        child.append(ch1)\n",
    "        \n",
    "    return child\n",
    "    "
   ]
  },
  {
   "cell_type": "code",
   "execution_count": 265,
   "metadata": {},
   "outputs": [],
   "source": [
    "def bitclimber(child, search_space, p_mut, max_local_gens,bits_per_param):\n",
    "    sol = child\n",
    "    n = 0\n",
    "    while n < max_local_gens:\n",
    "        sol_new = point_mutation(sol,p_mut)\n",
    "        if get_obj(sol_new,search_space,bits_per_param) < get_obj(sol,search_space,bits_per_param):\n",
    "            sol = sol_new\n",
    "        n +=1\n",
    "    return sol "
   ]
  },
  {
   "cell_type": "code",
   "execution_count": 266,
   "metadata": {},
   "outputs": [],
   "source": [
    "def search(max_gens, search_space, pop_size, p_cross, p_mut,max_local_gens, p_local, bits_per_param=16):\n",
    "    # 生成初始群体pop\n",
    "    pop = [ get_sol() for i in range(pop_size)]\n",
    "    # 计算fitness\n",
    "    pop.sort(key=lambda x: get_obj(x,search_space, bits_per_param))\n",
    "    gen = 0\n",
    "    best_hist = []\n",
    "    best = {}\n",
    "    while gen < max_gens:\n",
    "        pop_next = get_pop_next(pop,pop_size,p_cross,p_mut,search_space,max_local_gens,bits_per_param)  \n",
    "        pop_next.sort(key=lambda x: get_obj(x,search_space, bits_per_param))\n",
    "        best_hist.append(pop_next[0])\n",
    "        pop = pop_next\n",
    "        gen +=1\n",
    "    best_hist.sort(key=lambda x: get_obj(x,search_space, bits_per_param))\n",
    "    best['x'] = best_hist[0]\n",
    "    best['fitness'] = get_obj(best['x'],search_space, bits_per_param)\n",
    "    return best"
   ]
  },
  {
   "cell_type": "code",
   "execution_count": 267,
   "metadata": {},
   "outputs": [],
   "source": [
    "# problem configuration\n",
    "problem_size = 3\n",
    "search_space = [ [-5,5] for i in range(problem_size)]\n",
    "# algorithm configuration\n",
    "max_gens = 1000\n",
    "pop_size = 1000\n",
    "p_cross = 0.98\n",
    "p_mut = 0.02\n",
    "max_local_gens = 20\n",
    "p_local = 0.5\n",
    "bits_per_param = 16\n",
    "# execute the algorithm\n",
    "# best = search(max_gens, search_space, pop_size, p_cross, p_mut,max_local_gens, p_local)"
   ]
  },
  {
   "cell_type": "code",
   "execution_count": 268,
   "metadata": {},
   "outputs": [],
   "source": [
    "# 生成初始群体pop\n",
    "pop = [ get_sol() for i in range(pop_size)]\n",
    "# 计算fitness\n",
    "pop.sort(key=lambda x: get_obj(x,search_space, 16))\n",
    "gen = 0\n",
    "best_hist = []\n",
    "best = {}\n"
   ]
  },
  {
   "cell_type": "code",
   "execution_count": 273,
   "metadata": {},
   "outputs": [],
   "source": [
    "# [ get_obj(p,search_space,16) for p in pop]"
   ]
  },
  {
   "cell_type": "code",
   "execution_count": 270,
   "metadata": {},
   "outputs": [],
   "source": [
    "while gen < max_gens:\n",
    "    pop_next = get_pop_next(pop,pop_size,p_cross,p_mut,search_space,max_local_gens,bits_per_param)  \n",
    "    pop_next.sort(key=lambda x: get_obj(x,search_space, bits_per_param))\n",
    "    best_hist.append(pop_next[0])\n",
    "    pop = pop_next\n",
    "    gen +=1\n",
    "best_hist.sort(key=lambda x: get_obj(x,search_space, bits_per_param))\n",
    "best['x'] = best_hist[0]\n",
    "best['fitness'] = get_obj(best['x'],search_space, bits_per_param)"
   ]
  },
  {
   "cell_type": "code",
   "execution_count": 272,
   "metadata": {},
   "outputs": [
    {
     "data": {
      "text/plain": [
       "{'x': [1,\n",
       "  0,\n",
       "  0,\n",
       "  0,\n",
       "  0,\n",
       "  0,\n",
       "  0,\n",
       "  0,\n",
       "  0,\n",
       "  0,\n",
       "  0,\n",
       "  0,\n",
       "  0,\n",
       "  0,\n",
       "  0,\n",
       "  0,\n",
       "  1,\n",
       "  0,\n",
       "  0,\n",
       "  0,\n",
       "  0,\n",
       "  0,\n",
       "  0,\n",
       "  0,\n",
       "  0,\n",
       "  0,\n",
       "  0,\n",
       "  0,\n",
       "  0,\n",
       "  0,\n",
       "  0,\n",
       "  0,\n",
       "  1,\n",
       "  1,\n",
       "  0,\n",
       "  0,\n",
       "  0,\n",
       "  0,\n",
       "  0,\n",
       "  0,\n",
       "  0,\n",
       "  0,\n",
       "  0,\n",
       "  0,\n",
       "  0,\n",
       "  0,\n",
       "  0,\n",
       "  0],\n",
       " 'fitness': 0.0}"
      ]
     },
     "execution_count": 272,
     "metadata": {},
     "output_type": "execute_result"
    }
   ],
   "source": [
    "best"
   ]
  },
  {
   "cell_type": "code",
   "execution_count": null,
   "metadata": {},
   "outputs": [],
   "source": []
  }
 ],
 "metadata": {
  "kernelspec": {
   "display_name": "Python 3",
   "language": "python",
   "name": "python3"
  },
  "language_info": {
   "codemirror_mode": {
    "name": "ipython",
    "version": 3
   },
   "file_extension": ".py",
   "mimetype": "text/x-python",
   "name": "python",
   "nbconvert_exporter": "python",
   "pygments_lexer": "ipython3",
   "version": "3.7.1"
  }
 },
 "nbformat": 4,
 "nbformat_minor": 2
}
