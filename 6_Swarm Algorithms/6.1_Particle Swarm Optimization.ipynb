{
 "cells": [
  {
   "cell_type": "code",
   "execution_count": 1,
   "metadata": {},
   "outputs": [],
   "source": [
    "import math\n",
    "import random\n",
    "import numpy as np"
   ]
  },
  {
   "cell_type": "code",
   "execution_count": 2,
   "metadata": {},
   "outputs": [],
   "source": [
    "def get_obj(sol):\n",
    "    return round(sum([ x**2 for x in sol]),2)\n",
    "\n",
    "def get_sol(search_space):\n",
    "    sol = []\n",
    "    for i in range(len(search_space)):\n",
    "        sol.append(round(random.uniform(search_space[i][0],search_space[i][1]),4))\n",
    "    return sol"
   ]
  },
  {
   "cell_type": "code",
   "execution_count": 10,
   "metadata": {},
   "outputs": [],
   "source": [
    "def create_particle(search_space, vel_space):\n",
    "    particle = {}\n",
    "    particle['position'] = get_sol(search_space)\n",
    "    particle['cost'] = get_obj(particle['position'])\n",
    "    particle['b_position'] = particle['position']\n",
    "    particle['b_cost'] = particle['cost']\n",
    "    particle['velocity'] = get_sol(vel_space)\n",
    "    return particle\n"
   ]
  },
  {
   "cell_type": "code",
   "execution_count": 11,
   "metadata": {},
   "outputs": [
    {
     "data": {
      "text/plain": [
       "{'position': [3.3368, 0.6066],\n",
       " 'cost': 11.5,\n",
       " 'b_position': [3.3368, 0.6066],\n",
       " 'b_cost': 11.5,\n",
       " 'velocity': [0.2642, 0.4578]}"
      ]
     },
     "execution_count": 11,
     "metadata": {},
     "output_type": "execute_result"
    }
   ],
   "source": [
    "create_particle(search_space,vel_space)"
   ]
  },
  {
   "cell_type": "code",
   "execution_count": 24,
   "metadata": {},
   "outputs": [],
   "source": [
    "def get_global_best(population, current_best=None):\n",
    "    population.sort(key = lambda k : k['cost'])\n",
    "    best = population[0]\n",
    "    if not current_best or best['cost'] <= current_best['cost']:\n",
    "        current_best = {}\n",
    "        current_best['position'] =best['position']\n",
    "        current_best['cost'] = best['cost']\n",
    "    return current_best"
   ]
  },
  {
   "cell_type": "code",
   "execution_count": 49,
   "metadata": {},
   "outputs": [],
   "source": [
    "def update_velocity(particle, gbest, max_v, c1, c2):\n",
    "    for i,v in enumerate(particle['velocity']):\n",
    "        v1 = c1 * random.random() * (particle['b_position'][i] - particle['position'][i])\n",
    "        v2 = c2 * random.random() * (gbest['position'][i] - particle['position'][i])\n",
    "    particle['velocity'][i] = round(v + v1 + v2,4)\n",
    "    if particle['velocity'][i] > max_v:\n",
    "        particle['velocity'][i] = max_v \n",
    "    if particle['velocity'][i] < -max_v:\n",
    "        particle['velocity'][i] = -max_v \n",
    "\n",
    "\n",
    "def update_position(part, bounds):\n",
    "    for i,v in enumerate(part['position']):\n",
    "        part['position'][i] = v + part['velocity'][i]\n",
    "    if part['position'][i] > bounds[i][1]:\n",
    "        part['position'][i]=bounds[i][1]- abs(part['position'][i]-bounds[i][1])\n",
    "        part['velocity'][i] *= -1.0\n",
    "    else:\n",
    "        part['position'][i] < bounds[i][0]\n",
    "        part['position'][i]= bounds[i][0]+abs(part['position'][i]-bounds[i][0])\n",
    "        part['velocity'][i] *= -1.0\n",
    "   "
   ]
  },
  {
   "cell_type": "code",
   "execution_count": 44,
   "metadata": {},
   "outputs": [],
   "source": [
    "def update_best_position(particle):\n",
    "    if particle['cost'] > particle['b_cost']:\n",
    "        particle['b_cost'] = particle['cost']\n",
    "        particle['b_position'] = particle['position']\n",
    "\n",
    "\n"
   ]
  },
  {
   "cell_type": "code",
   "execution_count": 45,
   "metadata": {},
   "outputs": [],
   "source": [
    "def search(max_gens, search_space, vel_space, pop_size, max_vel, c1, c2):\n",
    "    # get_pop\n",
    "    pop = [ create_particle(search_space, vel_space) for i in range(pop_size)]\n",
    "    gbest = get_global_best(pop)\n",
    "    n = 0 \n",
    "    while n < max_gens:\n",
    "        for particle in pop:\n",
    "            update_velocity(particle, gbest, max_vel, c1, c2)\n",
    "            update_position(particle, search_space)\n",
    "            particle['cost'] = get_obj(particle['position'])\n",
    "            update_best_position(particle)\n",
    "        n += 1\n",
    "    gbest = get_global_best(pop, gbest)\n",
    "\n",
    "    return gbest\n"
   ]
  },
  {
   "cell_type": "code",
   "execution_count": 47,
   "metadata": {},
   "outputs": [],
   "source": [
    "# problem configuration\n",
    "problem_size = 2\n",
    "search_space = [ [-5,5] for i in range(problem_size)]\n",
    "# algorithm configuration\n",
    "vel_space = [ [-1,1] for i in range(problem_size)]  \n",
    "max_gens = 1000\n",
    "pop_size = 500\n",
    "max_vel = 100.0\n",
    "c1, c2 = 2.0, 2.0\n",
    "# execute the algorithm\n",
    "# best = search(max_gens, search_space, vel_space, pop_size, max_vel, c1,c2)"
   ]
  },
  {
   "cell_type": "code",
   "execution_count": 50,
   "metadata": {},
   "outputs": [
    {
     "data": {
      "text/plain": [
       "{'position': [112.69150000000042, 0.19450000000000056], 'cost': 0.05}"
      ]
     },
     "execution_count": 50,
     "metadata": {},
     "output_type": "execute_result"
    }
   ],
   "source": [
    "search(max_gens, search_space, vel_space, pop_size, max_vel, c1,c2)"
   ]
  },
  {
   "cell_type": "code",
   "execution_count": null,
   "metadata": {},
   "outputs": [],
   "source": []
  }
 ],
 "metadata": {
  "kernelspec": {
   "display_name": "Python 3",
   "language": "python",
   "name": "python3"
  },
  "language_info": {
   "codemirror_mode": {
    "name": "ipython",
    "version": 3
   },
   "file_extension": ".py",
   "mimetype": "text/x-python",
   "name": "python",
   "nbconvert_exporter": "python",
   "pygments_lexer": "ipython3",
   "version": "3.7.1"
  }
 },
 "nbformat": 4,
 "nbformat_minor": 2
}
