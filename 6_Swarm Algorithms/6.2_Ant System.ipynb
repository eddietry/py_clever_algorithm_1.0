{
 "cells": [
  {
   "cell_type": "code",
   "execution_count": 13,
   "metadata": {},
   "outputs": [],
   "source": [
    "# TSP：BerLin52\n",
    "berlin52 = [[565,575],[25,185],[345,750],[945,685],[845,655],\n",
    "[880,660],[25,230],[525,1000],[580,1175],[650,1130],[1605,620],\n",
    "[1220,580],[1465,200],[1530,5],[845,680],[725,370],[145,665],\n",
    "[415,635],[510,875],[560,365],[300,465],[520,585],[480,415],\n",
    "[835,625],[975,580],[1215,245],[1320,315],[1250,400],[660,180],\n",
    "[410,250],[420,555],[575,665],[1150,1160],[700,580],[685,595],\n",
    "[685,610],[770,610],[795,645],[720,635],[760,650],[475,960],\n",
    "[95,260],[875,920],[700,500],[555,815],[830,485],[1170,65],\n",
    "[830,610],[605,625],[595,360],[1340,725],[1740,245]]"
   ]
  },
  {
   "cell_type": "code",
   "execution_count": 52,
   "metadata": {},
   "outputs": [],
   "source": [
    "# import \n",
    "import numpy as np\n",
    "from random import sample\n",
    "import random\n",
    "from sklearn.utils import shuffle\n",
    "from sklearn.metrics.pairwise import pairwise_distances\n",
    "import math\n",
    "import pandas as pd"
   ]
  },
  {
   "cell_type": "code",
   "execution_count": 15,
   "metadata": {},
   "outputs": [],
   "source": [
    "distances = pairwise_distances(berlin52)\n",
    "n_city = len(distances)"
   ]
  },
  {
   "cell_type": "code",
   "execution_count": 16,
   "metadata": {},
   "outputs": [],
   "source": [
    "# algorithm configuration\n",
    "max_it = 50\n",
    "num_ants = 30\n",
    "decay_factor = 0.6\n",
    "c_heur = 2.5\n",
    "c_hist = 1.0\n",
    "# execute the algorithm\n",
    "# best = search(berlin52, max_it, num_ants, decay_factor, c_heur, c_hist)"
   ]
  },
  {
   "cell_type": "code",
   "execution_count": 17,
   "metadata": {},
   "outputs": [],
   "source": [
    "# 随机初始解\n",
    "def get_init_x(n_city = 52):\n",
    "    return np.random.permutation(n_city)\n",
    "# 计算适应度函数：\n",
    "def get_fitness(x):\n",
    "    global distance\n",
    "    fitness = sum([distances[x[i]][x[i+1]]  for i in range(len(x)-1)])\n",
    "    fitness += distances[x[len(x)-1]][x[0]]\n",
    "    return round(fitness,2)"
   ]
  },
  {
   "cell_type": "code",
   "execution_count": 18,
   "metadata": {},
   "outputs": [],
   "source": [
    "def select_next_city(choices):\n",
    "    # 根据累计概率随机选择\n",
    "    sum_ = 0 \n",
    "    result = {}\n",
    "    for prob in choices:\n",
    "        result[prob['prob']] = result.get(prob['prob'], 0) + prob['prob']\n",
    "        sum_0 = result[prob['prob']]\n",
    "    if sum_==0:\n",
    "        return sample(choices,1)[0]['city']\n",
    "    sel = random.random()\n",
    "    for i,v in enumerate(choices):\n",
    "        v -= (v['prob']/sum_)\n",
    "        if v <= 0 :\n",
    "            return choices[i]['city']\n",
    "    \n",
    "    return  random.sample(choices)['city']"
   ]
  },
  {
   "cell_type": "code",
   "execution_count": 19,
   "metadata": {},
   "outputs": [],
   "source": [
    "def calculate_choices(last_city,exclude,pheromone,c_heur,c_hist):\n",
    "    global distances\n",
    "    choices = []\n",
    "    for i in range(n_city):\n",
    "        if i in exclude:\n",
    "            continue\n",
    "        prob = {'city':i}\n",
    "        prob['history'] = pheromone[last_city][i]** c_hist\n",
    "        prob['distance'] = distances[last_city][i]\n",
    "        prob['heuristic'] = (1.0/prob['distance'])**c_heur\n",
    "        prob['prob'] = prob['history'] * prob['heuristic']\n",
    "        choices.append(prob)\n",
    "    return choices"
   ]
  },
  {
   "cell_type": "code",
   "execution_count": 31,
   "metadata": {},
   "outputs": [],
   "source": [
    "def stepwise_const(phero, c_heur, c_hist):\n",
    "    # 随机一个初始city_id,不断补全后续city_id\n",
    "    perm = []\n",
    "    # 获取随机下标\n",
    "    perm.append(random.sample(range(n_city),1)[0])\n",
    "    while len(perm) < n_city:\n",
    "        choices = calculate_choices(perm[-1],perm,phero,c_heur,c_hist)\n",
    "        next_city = select_next_city(choices)\n",
    "        perm.append(next_city)\n",
    "    return perm"
   ]
  },
  {
   "cell_type": "code",
   "execution_count": 54,
   "metadata": {},
   "outputs": [],
   "source": [
    "def initialise_pheromone_matrix(n_city,cost):\n",
    "    pheromone = [ [cost]*n_city  for i in range(n_city)]\n",
    "    return pheromone\n",
    "\n",
    "def decay_pheromone(pheromone, decay_factor):\n",
    "    for i in range(len(pheromone)):\n",
    "        pheromone[i] = [(1.0- decay_factor)*p for p in pheromone[i] ]\n",
    "\n",
    "\n",
    "def update_pheromone(pheromone, solutions):\n",
    "    for sol in solutions:\n",
    "        for i in range(len(sol['vector'])):\n",
    "                if i == len(sol['vector'])-1:\n",
    "                    y = sol['vector'][0]\n",
    "                else:\n",
    "                    y = sol['vector'][i+1]\n",
    "                pheromone[i][y] += (1.0/sol['cost'])\n",
    "                pheromone[y][i] += (1.0/sol['cost'])\n",
    "    "
   ]
  },
  {
   "cell_type": "code",
   "execution_count": 56,
   "metadata": {},
   "outputs": [],
   "source": [
    "def search(n_city, max_it, num_ants, decay_factor, c_heur, c_hist):\n",
    "    best = {'vector': get_init_x(n_city)}\n",
    "    best['cost'] = get_fitness(best['vector'])\n",
    "    # get_pop 根据cost，\n",
    "    pheromone = initialise_pheromone_matrix(n_city, best['cost'])\n",
    "    n = 0\n",
    "    while n< max_it:\n",
    "        solutions = []\n",
    "        for i in range(num_ants):\n",
    "            candidate = {}\n",
    "            candidate['vector'] = stepwise_const(pheromone, c_heur, c_hist)\n",
    "            candidate['cost'] = get_fitness(candidate['vector'])\n",
    "            if candidate['cost'] < best['cost']:\n",
    "                 best = candidate \n",
    "            print(best)\n",
    "            solutions.append(candidate)\n",
    "        decay_pheromone(pheromone, decay_factor)\n",
    "        update_pheromone(pheromone, solutions)\n",
    "    return best"
   ]
  },
  {
   "cell_type": "code",
   "execution_count": 46,
   "metadata": {},
   "outputs": [],
   "source": [
    "best = {'vector': get_init_x(n_city)}\n",
    "best['cost'] = get_fitness(best['vector'])"
   ]
  },
  {
   "cell_type": "code",
   "execution_count": 47,
   "metadata": {},
   "outputs": [
    {
     "data": {
      "text/plain": [
       "{'vector': array([ 3, 10, 33, 22, 40, 14, 16, 21, 24,  1,  6, 11,  9, 47, 19, 37, 17,\n",
       "         2, 27, 44, 26, 18, 34,  0, 28, 30, 23,  8, 29, 36, 38, 12, 31, 32,\n",
       "        51, 50,  5, 48,  7, 49, 39, 42, 43, 20, 45,  4, 35, 13, 15, 41, 25,\n",
       "        46]), 'cost': 29799.34}"
      ]
     },
     "execution_count": 47,
     "metadata": {},
     "output_type": "execute_result"
    }
   ],
   "source": [
    "best"
   ]
  },
  {
   "cell_type": "code",
   "execution_count": 36,
   "metadata": {},
   "outputs": [],
   "source": [
    "pheromone = initialise_pheromone_matrix(52,40000)"
   ]
  },
  {
   "cell_type": "code",
   "execution_count": 28,
   "metadata": {},
   "outputs": [],
   "source": [
    "choices = calculate_choices(10,[10],pheromone,c_heur,c_hist)"
   ]
  },
  {
   "cell_type": "code",
   "execution_count": 29,
   "metadata": {},
   "outputs": [
    {
     "data": {
      "text/plain": [
       "39"
      ]
     },
     "execution_count": 29,
     "metadata": {},
     "output_type": "execute_result"
    }
   ],
   "source": [
    "sample(choices,1)[0]['city']"
   ]
  },
  {
   "cell_type": "code",
   "execution_count": 27,
   "metadata": {},
   "outputs": [
    {
     "data": {
      "text/plain": [
       "26"
      ]
     },
     "execution_count": 27,
     "metadata": {},
     "output_type": "execute_result"
    }
   ],
   "source": [
    "select_next_city(choices)"
   ]
  },
  {
   "cell_type": "code",
   "execution_count": null,
   "metadata": {},
   "outputs": [],
   "source": []
  }
 ],
 "metadata": {
  "kernelspec": {
   "display_name": "Python 3",
   "language": "python",
   "name": "python3"
  },
  "language_info": {
   "codemirror_mode": {
    "name": "ipython",
    "version": 3
   },
   "file_extension": ".py",
   "mimetype": "text/x-python",
   "name": "python",
   "nbconvert_exporter": "python",
   "pygments_lexer": "ipython3",
   "version": "3.7.1"
  }
 },
 "nbformat": 4,
 "nbformat_minor": 2
}
