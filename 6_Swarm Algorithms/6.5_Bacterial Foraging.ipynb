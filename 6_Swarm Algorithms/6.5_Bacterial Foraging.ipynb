{
 "cells": [
  {
   "cell_type": "code",
   "execution_count": 1,
   "metadata": {},
   "outputs": [],
   "source": [
    "import math\n",
    "import random\n",
    "import numpy as np"
   ]
  },
  {
   "cell_type": "code",
   "execution_count": 8,
   "metadata": {},
   "outputs": [],
   "source": [
    "def get_obj(sol):\n",
    "    return round(sum([ x**2 for x in sol]),2)\n",
    "\n",
    "def get_uniform(search_space):\n",
    "    sol = []\n",
    "    for i in range(len(search_space)):\n",
    "        sol.append(round(random.uniform(search_space[i][0],search_space[i][1]),4))\n",
    "    return sol\n",
    "\n",
    "def generate_random_direction(problem_size):\n",
    "    bounds = [ [-1,1] for i in range(problem_size)]\n",
    "    return get_uniform(bounds)"
   ]
  },
  {
   "cell_type": "code",
   "execution_count": 69,
   "metadata": {},
   "outputs": [],
   "source": [
    "def compute_cell_interaction(cell, cells, d, w):\n",
    "    sum_ = 0 \n",
    "    for other_cell in cells:\n",
    "        diff = 0\n",
    "        for i,v in enumerate(cell['vector']):\n",
    "            diff += (cell['vector'][i]- other_cell['vector'][i])**2.0\n",
    "        sum_ += d * math.exp(w * diff)\n",
    "    return sum_\n",
    "def attract_repel(cell, cells, d_attr, w_attr, h_rep, w_rep):\n",
    "    attract = compute_cell_interaction(cell, cells, -d_attr, -w_attr)\n",
    "    repel = compute_cell_interaction(cell, cells, h_rep, -w_rep)\n",
    "    return attract + repel"
   ]
  },
  {
   "cell_type": "code",
   "execution_count": 70,
   "metadata": {},
   "outputs": [],
   "source": [
    "def evaluate(cell, cells, d_attr, w_attr, h_rep, w_rep):\n",
    "    cell['cost'] = get_obj(cell['vector'])\n",
    "    cell['inter'] = attract_repel(cell, cells, d_attr, w_attr, h_rep, w_rep)\n",
    "    cell['fitness'] = cell['cost'] + cell['inter']"
   ]
  },
  {
   "cell_type": "code",
   "execution_count": 71,
   "metadata": {},
   "outputs": [],
   "source": [
    "def tumble_cell(search_space, cell, step_size):\n",
    "    step = generate_random_direction(len(search_space))\n",
    "    vector = []\n",
    "    for i in range(len(search_space)):\n",
    "        v = cell['vector'][i] + step_size * step[i]\n",
    "        if v < search_space[i][0]:\n",
    "            v = search_space[i][0] \n",
    "        if v > search_space[i][1]:\n",
    "            v = search_space[i][1] \n",
    "        vector.append(v)\n",
    "  \n",
    "    return {'vector':vector}"
   ]
  },
  {
   "cell_type": "code",
   "execution_count": 72,
   "metadata": {},
   "outputs": [],
   "source": [
    "def chemotaxis(cells, search_space, chem_steps, swim_length, step_size,\n",
    "    d_attr, w_attr, h_rep, w_rep):\n",
    "    best = None\n",
    "    for j in range(chem_steps):\n",
    "        moved_cells = []\n",
    "        for i,cell in enumerate(cells):\n",
    "            sum_nutrients = 0.0\n",
    "            evaluate(cell, cells, d_attr, w_attr, h_rep, w_rep)\n",
    "            if not best or cell['cost'] < best['cost']:\n",
    "                best = cell\n",
    "            sum_nutrients += cell['fitness']\n",
    "            for m in range(swim_length):\n",
    "                new_cell = tumble_cell(search_space, cell, step_size)\n",
    "                evaluate(new_cell, cells, d_attr, w_attr, h_rep, w_rep)\n",
    "                if cell['cost'] < best['cost']:\n",
    "                    best = cell \n",
    "                if new_cell['fitness'] > cell['fitness']:\n",
    "                    break \n",
    "                cell = new_cell\n",
    "                sum_nutrients += cell['fitness']\n",
    "            cell['sum_nutrients'] = sum_nutrients\n",
    "            moved_cells.append(cell)\n",
    "        cells = moved_cells\n",
    "    return [best, cells]"
   ]
  },
  {
   "cell_type": "code",
   "execution_count": 82,
   "metadata": {},
   "outputs": [],
   "source": [
    "def search(search_space, pop_size, elim_disp_steps, repro_steps,\n",
    "    chem_steps, swim_length, step_size, d_attr, w_attr, h_rep, w_rep,\n",
    "    p_eliminate):\n",
    "    # 初始化pop,best\n",
    "    cells = []\n",
    "    for i in range(pop_size):\n",
    "        cells.append({'vector':get_uniform(search_space)})\n",
    "    best = None\n",
    "    for l in range(elim_disp_steps):\n",
    "        for k in range(repro_steps):\n",
    "            c_best, cells = chemotaxis(cells, search_space, chem_steps,swim_length, step_size, d_attr, w_attr, h_rep, w_rep)\n",
    "            if not best or c_best['cost'] < best['cost']:\n",
    "                best = c_best\n",
    "            cells.sort(key = lambda k:k['sum_nutrients'])\n",
    "            cells = cells[:int(pop_size/2)] + cells[:int(pop_size/2)]\n",
    "        for cell in cells:\n",
    "            if random.random() <= p_eliminate:\n",
    "                cell['vector'] = get_uniform(search_space)\n",
    "    return best"
   ]
  },
  {
   "cell_type": "code",
   "execution_count": 74,
   "metadata": {},
   "outputs": [],
   "source": [
    "# problem configuration\n",
    "problem_size = 2\n",
    "search_space = [ [-5,5] for i in range(problem_size)]\n",
    "# algorithm configuration\n",
    "pop_size = 50\n",
    "step_size = 0.1 # Ci\n",
    "elim_disp_steps = 1 # Ned\n",
    "repro_steps = 4 # Nre\n",
    "chem_steps = 70 # Nc\n",
    "swim_length = 4 # Ns\n",
    "p_eliminate = 0.25 # Ped\n",
    "d_attr = 0.1\n",
    "w_attr = 0.2\n",
    "h_rep = d_attr\n",
    "w_rep = 10\n",
    "# execute the algorithm"
   ]
  },
  {
   "cell_type": "code",
   "execution_count": 83,
   "metadata": {},
   "outputs": [
    {
     "data": {
      "text/plain": [
       "{'vector': [-0.03678000000000001, -0.056829999999999894],\n",
       " 'cost': 0.0,\n",
       " 'inter': -1.2572460418738405,\n",
       " 'fitness': -1.2572460418738405,\n",
       " 'sum_nutrients': -1.2044260514881577}"
      ]
     },
     "execution_count": 83,
     "metadata": {},
     "output_type": "execute_result"
    }
   ],
   "source": [
    "search(search_space, pop_size, elim_disp_steps, repro_steps,chem_steps, swim_length, step_size, d_attr, w_attr, h_rep, w_rep,\n",
    "p_eliminate)"
   ]
  },
  {
   "cell_type": "code",
   "execution_count": null,
   "metadata": {},
   "outputs": [],
   "source": []
  },
  {
   "cell_type": "code",
   "execution_count": null,
   "metadata": {},
   "outputs": [],
   "source": []
  }
 ],
 "metadata": {
  "kernelspec": {
   "display_name": "Python 3",
   "language": "python",
   "name": "python3"
  },
  "language_info": {
   "codemirror_mode": {
    "name": "ipython",
    "version": 3
   },
   "file_extension": ".py",
   "mimetype": "text/x-python",
   "name": "python",
   "nbconvert_exporter": "python",
   "pygments_lexer": "ipython3",
   "version": "3.7.1"
  }
 },
 "nbformat": 4,
 "nbformat_minor": 2
}
