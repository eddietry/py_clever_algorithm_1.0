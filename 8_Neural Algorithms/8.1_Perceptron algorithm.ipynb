{
 "cells": [
  {
   "cell_type": "code",
   "execution_count": 1,
   "metadata": {},
   "outputs": [],
   "source": [
    "import numpy as np\n",
    "import random \n",
    "random.uniform"
   ]
  },
  {
   "cell_type": "code",
   "execution_count": 22,
   "metadata": {},
   "outputs": [],
   "source": [
    "def random_vector(search_space):\n",
    "    sol = []\n",
    "    for i in range(len(search_space)):\n",
    "        sol.append(round(random.uniform(search_space[i][0],search_space[i][1]),4))\n",
    "    return sol\n",
    "def initialize_weights(problem_size):\n",
    "    minmax = [[-1.0,1.0] for i in range(problem_size+1)]\n",
    "    return random_vector(minmax)\n",
    "def update_weights(num_inputs, weights, input_, out_exp, out_act, l_rate):\n",
    "    for i in range(num_inputs):\n",
    "        weights[i] += l_rate * (out_exp - out_act) * input_[i]\n",
    "    weights[num_inputs] += l_rate * (out_exp - out_act) * 1.0\n",
    "def activate(weights, vector):\n",
    "    sum_ =  weights[:-2][0] * 1.0\n",
    "    for i,input_ in enumerate(vector):\n",
    "        sum_ += weights[i]*input_\n",
    "    return sum_\n",
    "def transfer(activation):\n",
    "    if activation >= 0 :\n",
    "        return 1.0\n",
    "    else:\n",
    "        return 0.0\n",
    "def get_output(weights, vector):\n",
    "    activation = activate(weights, vector)\n",
    "    return transfer(activation)"
   ]
  },
  {
   "cell_type": "code",
   "execution_count": 19,
   "metadata": {},
   "outputs": [],
   "source": [
    "def train_weights(weights, domain, num_inputs, iterations, lrate):\n",
    "    for epoch in range(iterations):\n",
    "        error = 0.0\n",
    "        for pattern in domain:\n",
    "            input = [ pattern[i] for i in range(num_inputs)]\n",
    "            output = get_output(weights,input)\n",
    "            expected = pattern[-1]\n",
    "            error += abs(output - expected)\n",
    "            update_weights(num_inputs,weights,input,expected,output,lrate)\n",
    "def test_weights(weights, domain, num_inputs):\n",
    "    correct = 0\n",
    "    for pattern in domain:\n",
    "        input_vector = [ pattern[i] for i in range(num_inputs)]\n",
    "        output = get_output(weights, input_vector)\n",
    "        if int(output) == pattern[-1]:\n",
    "            correct += 1\n",
    "    return correct     "
   ]
  },
  {
   "cell_type": "code",
   "execution_count": 20,
   "metadata": {},
   "outputs": [],
   "source": [
    "def execute(domain, num_inputs, iterations, learning_rate):\n",
    "    weights = initialize_weights(num_inputs)\n",
    "    train_weights(weights, domain, num_inputs, iterations, learning_rate)\n",
    "    test_weights(weights, domain, num_inputs)\n",
    "    return weights"
   ]
  },
  {
   "cell_type": "code",
   "execution_count": 3,
   "metadata": {},
   "outputs": [],
   "source": [
    "# problem configuration\n",
    "or_problem = [[0,0,0], [0,1,1], [1,0,1], [1,1,1]]\n",
    "inputs = 2\n",
    "# algorithm configuration\n",
    "iterations = 20\n",
    "learning_rate = 0.1\n",
    "# execute the algorithm\n",
    "#   execute(or_problem, inputs, iterations, learning_rate)"
   ]
  },
  {
   "cell_type": "code",
   "execution_count": 25,
   "metadata": {},
   "outputs": [
    {
     "data": {
      "text/plain": [
       "[0.08409999999999984, 0.1228999999999999, 0.18960000000000007]"
      ]
     },
     "execution_count": 25,
     "metadata": {},
     "output_type": "execute_result"
    }
   ],
   "source": [
    "execute(or_problem, inputs, iterations, learning_rate)"
   ]
  },
  {
   "cell_type": "code",
   "execution_count": null,
   "metadata": {},
   "outputs": [],
   "source": []
  }
 ],
 "metadata": {
  "kernelspec": {
   "display_name": "Python 3",
   "language": "python",
   "name": "python3"
  },
  "language_info": {
   "codemirror_mode": {
    "name": "ipython",
    "version": 3
   },
   "file_extension": ".py",
   "mimetype": "text/x-python",
   "name": "python",
   "nbconvert_exporter": "python",
   "pygments_lexer": "ipython3",
   "version": "3.7.1"
  }
 },
 "nbformat": 4,
 "nbformat_minor": 2
}
